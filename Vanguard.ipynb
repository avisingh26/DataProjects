{
 "cells": [
  {
   "cell_type": "code",
   "execution_count": 1,
   "id": "5b5741e1-303d-46f5-a9bb-84a752faac4b",
   "metadata": {
    "tags": []
   },
   "outputs": [],
   "source": [
    "import pandas as pd\n",
    "import matplotlib.pyplot as plt\n",
    "import numpy as np\n",
    "import seaborn as sns\n",
    "from scipy.stats import fisher_exact\n",
    "demos = pd.read_csv(\"Desktop/Case Study Data/demos.csv\")\n",
    "enroll_data = pd.read_csv(\"Desktop/Case Study Data/enroll_data.csv\")\n",
    "web_data = pd.read_csv(\"Desktop/Case Study Data/web_data.csv\")"
   ]
  },
  {
   "cell_type": "code",
   "execution_count": 2,
   "id": "82536743-4b77-4cc4-ba94-272fd74e96eb",
   "metadata": {
    "tags": []
   },
   "outputs": [],
   "source": [
    "demos[[\"click_dt\", \"bounce_dt\", \"open_dt\"]] = demos[[\"click_dt\", \"bounce_dt\", \"open_dt\"]].apply(pd.to_datetime)\n",
    "enroll_data[[\"enrll_dt\", \"unenrll_dt\"]] = enroll_data[[\"enrll_dt\", \"unenrll_dt\"]].apply(pd.to_datetime)\n",
    "web_data[[\"hit_dt\"]] = web_data[[\"hit_dt\"]].apply(pd.to_datetime)"
   ]
  },
  {
   "cell_type": "code",
   "execution_count": 3,
   "id": "6198083a-0307-4607-8bc8-04764e0584b7",
   "metadata": {
    "tags": []
   },
   "outputs": [
    {
     "data": {
      "text/plain": [
       "37298"
      ]
     },
     "execution_count": 3,
     "metadata": {},
     "output_type": "execute_result"
    }
   ],
   "source": [
    "sent = demos[demos[\"campaign\"] != 2]\n",
    "len(sent)"
   ]
  },
  {
   "cell_type": "code",
   "execution_count": 4,
   "id": "4adf36a9-c219-4d1b-a991-4c3b159fd55e",
   "metadata": {
    "tags": []
   },
   "outputs": [
    {
     "data": {
      "text/plain": [
       "31"
      ]
     },
     "execution_count": 4,
     "metadata": {},
     "output_type": "execute_result"
    }
   ],
   "source": [
    "bounce = sent[sent['bounce_dt'].notna()]\n",
    "len(bounce)"
   ]
  },
  {
   "cell_type": "code",
   "execution_count": 5,
   "id": "c342722f-c193-490d-8e74-3d28274eafa2",
   "metadata": {
    "tags": []
   },
   "outputs": [
    {
     "data": {
      "text/plain": [
       "37267"
      ]
     },
     "execution_count": 5,
     "metadata": {},
     "output_type": "execute_result"
    }
   ],
   "source": [
    "delivered = sent[sent['bounce_dt'].isna()]\n",
    "len(delivered)"
   ]
  },
  {
   "cell_type": "code",
   "execution_count": 6,
   "id": "71258945-071b-4604-9194-dac7e4bf90d7",
   "metadata": {
    "tags": []
   },
   "outputs": [
    {
     "data": {
      "text/plain": [
       "(18788, 18479)"
      ]
     },
     "execution_count": 6,
     "metadata": {},
     "output_type": "execute_result"
    }
   ],
   "source": [
    "opened = delivered[delivered['open_dt'].notna()]\n",
    "unopened = delivered[delivered['open_dt'].isna()]\n",
    "\n",
    "len(opened), len(unopened)"
   ]
  },
  {
   "cell_type": "code",
   "execution_count": 7,
   "id": "443e62b7-106e-487e-b628-963c79a09e49",
   "metadata": {
    "tags": []
   },
   "outputs": [
    {
     "data": {
      "text/plain": [
       "(9377, 9411)"
      ]
     },
     "execution_count": 7,
     "metadata": {},
     "output_type": "execute_result"
    }
   ],
   "source": [
    "clicked = opened[opened[\"click_dt\"].notna()]\n",
    "unclicked = opened[opened[\"click_dt\"].isna()]\n",
    "len(clicked), len(unclicked)"
   ]
  },
  {
   "cell_type": "code",
   "execution_count": 8,
   "id": "253dd2e0-2caa-4341-af44-ca04e73fa5ac",
   "metadata": {
    "tags": []
   },
   "outputs": [
    {
     "data": {
      "text/plain": [
       "((41767, 12), (164, 6), (77304, 4))"
      ]
     },
     "execution_count": 8,
     "metadata": {},
     "output_type": "execute_result"
    }
   ],
   "source": [
    "demos.shape, enroll_data.shape, web_data.shape"
   ]
  },
  {
   "cell_type": "code",
   "execution_count": 9,
   "id": "ad8a587f-34ac-46d5-a072-c38bc18446f1",
   "metadata": {
    "tags": []
   },
   "outputs": [
    {
     "data": {
      "text/plain": [
       "((41767, 12), (143, 6), (5014, 4))"
      ]
     },
     "execution_count": 9,
     "metadata": {},
     "output_type": "execute_result"
    }
   ],
   "source": [
    "demos = demos.drop_duplicates()\n",
    "enroll_data = enroll_data.drop_duplicates()\n",
    "web_data = web_data[web_data[\"page\"] == \"welcome\"]\n",
    "web_data = web_data.drop_duplicates(subset = [\"part_id\", \"page\"], keep = \"first\")\n",
    "demos.shape, enroll_data.shape, web_data.shape"
   ]
  },
  {
   "cell_type": "code",
   "execution_count": 10,
   "id": "3c5f595f-9565-4bd9-bb6f-48fa1d1f92b6",
   "metadata": {
    "tags": []
   },
   "outputs": [
    {
     "data": {
      "text/plain": [
       "(216, 154)"
      ]
     },
     "execution_count": 10,
     "metadata": {},
     "output_type": "execute_result"
    }
   ],
   "source": [
    "clicked_welcome = clicked.merge(web_data, on = \"part_id\", how = \"left\")\n",
    "clicked_welcome = clicked_welcome[clicked_welcome[\"page\"].notna()]\n",
    "unclicked_welcome = unclicked.merge(web_data, on = \"part_id\", how = \"left\")\n",
    "unclicked_welcome = unclicked_welcome[unclicked_welcome[\"page\"].notna()]\n",
    "len(clicked_welcome), len(unclicked_welcome)"
   ]
  },
  {
   "cell_type": "code",
   "execution_count": 11,
   "id": "795d2f25-82ab-4f03-98c4-3cb9835b6e36",
   "metadata": {
    "tags": []
   },
   "outputs": [
    {
     "data": {
      "text/plain": [
       "(343, 27)"
      ]
     },
     "execution_count": 11,
     "metadata": {},
     "output_type": "execute_result"
    }
   ],
   "source": [
    "ended_welcome = pd.concat([clicked_welcome, unclicked_welcome], ignore_index = True)\n",
    "ended_welcome = ended_welcome.merge(enroll_data, on = \"part_id\", how = \"left\")\n",
    "not_enrolled = ended_welcome[ended_welcome[\"enrll_dt\"].isna()]\n",
    "enrolled = ended_welcome[ended_welcome[\"enrll_dt\"].notna()]\n",
    "enrolled = enrolled[enrolled[\"enrll_dt\"] >= enrolled[\"open_dt\"]]\n",
    "len(not_enrolled), len(enrolled)"
   ]
  },
  {
   "cell_type": "code",
   "execution_count": 12,
   "id": "59c6e914-1057-4347-b7b3-e802bd429c92",
   "metadata": {
    "tags": []
   },
   "outputs": [
    {
     "data": {
      "text/plain": [
       "(41767, 17)"
      ]
     },
     "execution_count": 12,
     "metadata": {},
     "output_type": "execute_result"
    }
   ],
   "source": [
    "merged = demos.merge(enroll_data, on = \"part_id\", how =\"left\")\n",
    "merged.shape"
   ]
  },
  {
   "cell_type": "code",
   "execution_count": 13,
   "id": "fc0108ad-26a3-42d8-ac63-ba1b1ef458d4",
   "metadata": {
    "tags": []
   },
   "outputs": [
    {
     "data": {
      "text/html": [
       "<div>\n",
       "<style scoped>\n",
       "    .dataframe tbody tr th:only-of-type {\n",
       "        vertical-align: middle;\n",
       "    }\n",
       "\n",
       "    .dataframe tbody tr th {\n",
       "        vertical-align: top;\n",
       "    }\n",
       "\n",
       "    .dataframe thead th {\n",
       "        text-align: right;\n",
       "    }\n",
       "</style>\n",
       "<table border=\"1\" class=\"dataframe\">\n",
       "  <thead>\n",
       "    <tr style=\"text-align: right;\">\n",
       "      <th></th>\n",
       "      <th>part_id</th>\n",
       "      <th>fund_ct</th>\n",
       "      <th>logon_ct</th>\n",
       "      <th>call_ct</th>\n",
       "      <th>balance</th>\n",
       "      <th>tenure</th>\n",
       "      <th>age</th>\n",
       "      <th>gender</th>\n",
       "      <th>campaign</th>\n",
       "      <th>click_dt</th>\n",
       "      <th>bounce_dt</th>\n",
       "      <th>open_dt</th>\n",
       "      <th>curr_enrll_fl</th>\n",
       "      <th>unenrll_fl</th>\n",
       "      <th>curr_enrll_status</th>\n",
       "      <th>enrll_dt</th>\n",
       "      <th>unenrll_dt</th>\n",
       "    </tr>\n",
       "  </thead>\n",
       "  <tbody>\n",
       "    <tr>\n",
       "      <th>0</th>\n",
       "      <td>1054161513</td>\n",
       "      <td>6</td>\n",
       "      <td>11</td>\n",
       "      <td>1</td>\n",
       "      <td>70377.57</td>\n",
       "      <td>6.0</td>\n",
       "      <td>44.2</td>\n",
       "      <td>0</td>\n",
       "      <td>0</td>\n",
       "      <td>NaT</td>\n",
       "      <td>NaT</td>\n",
       "      <td>NaT</td>\n",
       "      <td>NaN</td>\n",
       "      <td>NaN</td>\n",
       "      <td>NaN</td>\n",
       "      <td>NaT</td>\n",
       "      <td>NaT</td>\n",
       "    </tr>\n",
       "    <tr>\n",
       "      <th>1</th>\n",
       "      <td>5761909860</td>\n",
       "      <td>7</td>\n",
       "      <td>13</td>\n",
       "      <td>2</td>\n",
       "      <td>63505.69</td>\n",
       "      <td>6.6</td>\n",
       "      <td>44.2</td>\n",
       "      <td>0</td>\n",
       "      <td>1</td>\n",
       "      <td>NaT</td>\n",
       "      <td>NaT</td>\n",
       "      <td>NaT</td>\n",
       "      <td>NaN</td>\n",
       "      <td>NaN</td>\n",
       "      <td>NaN</td>\n",
       "      <td>NaT</td>\n",
       "      <td>NaT</td>\n",
       "    </tr>\n",
       "    <tr>\n",
       "      <th>2</th>\n",
       "      <td>9130086586</td>\n",
       "      <td>6</td>\n",
       "      <td>13</td>\n",
       "      <td>2</td>\n",
       "      <td>55933.94</td>\n",
       "      <td>5.9</td>\n",
       "      <td>43.7</td>\n",
       "      <td>1</td>\n",
       "      <td>1</td>\n",
       "      <td>NaT</td>\n",
       "      <td>NaT</td>\n",
       "      <td>NaT</td>\n",
       "      <td>NaN</td>\n",
       "      <td>NaN</td>\n",
       "      <td>NaN</td>\n",
       "      <td>NaT</td>\n",
       "      <td>NaT</td>\n",
       "    </tr>\n",
       "    <tr>\n",
       "      <th>3</th>\n",
       "      <td>5496433327</td>\n",
       "      <td>6</td>\n",
       "      <td>12</td>\n",
       "      <td>2</td>\n",
       "      <td>81072.63</td>\n",
       "      <td>5.5</td>\n",
       "      <td>45.5</td>\n",
       "      <td>0</td>\n",
       "      <td>1</td>\n",
       "      <td>NaT</td>\n",
       "      <td>NaT</td>\n",
       "      <td>NaT</td>\n",
       "      <td>NaN</td>\n",
       "      <td>NaN</td>\n",
       "      <td>NaN</td>\n",
       "      <td>NaT</td>\n",
       "      <td>NaT</td>\n",
       "    </tr>\n",
       "    <tr>\n",
       "      <th>4</th>\n",
       "      <td>8917877079</td>\n",
       "      <td>8</td>\n",
       "      <td>12</td>\n",
       "      <td>0</td>\n",
       "      <td>87534.41</td>\n",
       "      <td>3.8</td>\n",
       "      <td>45.3</td>\n",
       "      <td>1</td>\n",
       "      <td>0</td>\n",
       "      <td>NaT</td>\n",
       "      <td>NaT</td>\n",
       "      <td>2020-12-14</td>\n",
       "      <td>NaN</td>\n",
       "      <td>NaN</td>\n",
       "      <td>NaN</td>\n",
       "      <td>NaT</td>\n",
       "      <td>NaT</td>\n",
       "    </tr>\n",
       "  </tbody>\n",
       "</table>\n",
       "</div>"
      ],
      "text/plain": [
       "      part_id  fund_ct  logon_ct  call_ct   balance  tenure   age  gender  \\\n",
       "0  1054161513        6        11        1  70377.57     6.0  44.2       0   \n",
       "1  5761909860        7        13        2  63505.69     6.6  44.2       0   \n",
       "2  9130086586        6        13        2  55933.94     5.9  43.7       1   \n",
       "3  5496433327        6        12        2  81072.63     5.5  45.5       0   \n",
       "4  8917877079        8        12        0  87534.41     3.8  45.3       1   \n",
       "\n",
       "   campaign click_dt bounce_dt    open_dt  curr_enrll_fl  unenrll_fl  \\\n",
       "0         0      NaT       NaT        NaT            NaN         NaN   \n",
       "1         1      NaT       NaT        NaT            NaN         NaN   \n",
       "2         1      NaT       NaT        NaT            NaN         NaN   \n",
       "3         1      NaT       NaT        NaT            NaN         NaN   \n",
       "4         0      NaT       NaT 2020-12-14            NaN         NaN   \n",
       "\n",
       "  curr_enrll_status enrll_dt unenrll_dt  \n",
       "0               NaN      NaT        NaT  \n",
       "1               NaN      NaT        NaT  \n",
       "2               NaN      NaT        NaT  \n",
       "3               NaN      NaT        NaT  \n",
       "4               NaN      NaT        NaT  "
      ]
     },
     "execution_count": 13,
     "metadata": {},
     "output_type": "execute_result"
    }
   ],
   "source": [
    "merged.head()"
   ]
  },
  {
   "cell_type": "code",
   "execution_count": 14,
   "id": "6c279ce9-ba1f-4afe-9627-80a8bcea7047",
   "metadata": {
    "tags": []
   },
   "outputs": [
    {
     "data": {
      "text/plain": [
       "(41767, 20)"
      ]
     },
     "execution_count": 14,
     "metadata": {},
     "output_type": "execute_result"
    }
   ],
   "source": [
    "merged = merged.merge(web_data, on = \"part_id\", how =\"left\")\n",
    "merged.shape"
   ]
  },
  {
   "cell_type": "code",
   "execution_count": 15,
   "id": "4b05031e-d671-404a-888f-ff6ccc18e1a6",
   "metadata": {
    "tags": []
   },
   "outputs": [
    {
     "data": {
      "text/html": [
       "<div>\n",
       "<style scoped>\n",
       "    .dataframe tbody tr th:only-of-type {\n",
       "        vertical-align: middle;\n",
       "    }\n",
       "\n",
       "    .dataframe tbody tr th {\n",
       "        vertical-align: top;\n",
       "    }\n",
       "\n",
       "    .dataframe thead th {\n",
       "        text-align: right;\n",
       "    }\n",
       "</style>\n",
       "<table border=\"1\" class=\"dataframe\">\n",
       "  <thead>\n",
       "    <tr style=\"text-align: right;\">\n",
       "      <th></th>\n",
       "      <th>part_id</th>\n",
       "      <th>fund_ct</th>\n",
       "      <th>logon_ct</th>\n",
       "      <th>call_ct</th>\n",
       "      <th>balance</th>\n",
       "      <th>tenure</th>\n",
       "      <th>age</th>\n",
       "      <th>gender</th>\n",
       "      <th>campaign</th>\n",
       "      <th>click_dt</th>\n",
       "      <th>bounce_dt</th>\n",
       "      <th>open_dt</th>\n",
       "      <th>curr_enrll_fl</th>\n",
       "      <th>unenrll_fl</th>\n",
       "      <th>curr_enrll_status</th>\n",
       "      <th>enrll_dt</th>\n",
       "      <th>unenrll_dt</th>\n",
       "      <th>web_session_id</th>\n",
       "      <th>hit_dt</th>\n",
       "      <th>page</th>\n",
       "    </tr>\n",
       "  </thead>\n",
       "  <tbody>\n",
       "    <tr>\n",
       "      <th>0</th>\n",
       "      <td>1054161513</td>\n",
       "      <td>6</td>\n",
       "      <td>11</td>\n",
       "      <td>1</td>\n",
       "      <td>70377.57</td>\n",
       "      <td>6.0</td>\n",
       "      <td>44.2</td>\n",
       "      <td>0</td>\n",
       "      <td>0</td>\n",
       "      <td>NaT</td>\n",
       "      <td>NaT</td>\n",
       "      <td>NaT</td>\n",
       "      <td>NaN</td>\n",
       "      <td>NaN</td>\n",
       "      <td>NaN</td>\n",
       "      <td>NaT</td>\n",
       "      <td>NaT</td>\n",
       "      <td>NaN</td>\n",
       "      <td>NaT</td>\n",
       "      <td>NaN</td>\n",
       "    </tr>\n",
       "    <tr>\n",
       "      <th>1</th>\n",
       "      <td>5761909860</td>\n",
       "      <td>7</td>\n",
       "      <td>13</td>\n",
       "      <td>2</td>\n",
       "      <td>63505.69</td>\n",
       "      <td>6.6</td>\n",
       "      <td>44.2</td>\n",
       "      <td>0</td>\n",
       "      <td>1</td>\n",
       "      <td>NaT</td>\n",
       "      <td>NaT</td>\n",
       "      <td>NaT</td>\n",
       "      <td>NaN</td>\n",
       "      <td>NaN</td>\n",
       "      <td>NaN</td>\n",
       "      <td>NaT</td>\n",
       "      <td>NaT</td>\n",
       "      <td>NaN</td>\n",
       "      <td>NaT</td>\n",
       "      <td>NaN</td>\n",
       "    </tr>\n",
       "    <tr>\n",
       "      <th>2</th>\n",
       "      <td>9130086586</td>\n",
       "      <td>6</td>\n",
       "      <td>13</td>\n",
       "      <td>2</td>\n",
       "      <td>55933.94</td>\n",
       "      <td>5.9</td>\n",
       "      <td>43.7</td>\n",
       "      <td>1</td>\n",
       "      <td>1</td>\n",
       "      <td>NaT</td>\n",
       "      <td>NaT</td>\n",
       "      <td>NaT</td>\n",
       "      <td>NaN</td>\n",
       "      <td>NaN</td>\n",
       "      <td>NaN</td>\n",
       "      <td>NaT</td>\n",
       "      <td>NaT</td>\n",
       "      <td>NaN</td>\n",
       "      <td>NaT</td>\n",
       "      <td>NaN</td>\n",
       "    </tr>\n",
       "    <tr>\n",
       "      <th>3</th>\n",
       "      <td>5496433327</td>\n",
       "      <td>6</td>\n",
       "      <td>12</td>\n",
       "      <td>2</td>\n",
       "      <td>81072.63</td>\n",
       "      <td>5.5</td>\n",
       "      <td>45.5</td>\n",
       "      <td>0</td>\n",
       "      <td>1</td>\n",
       "      <td>NaT</td>\n",
       "      <td>NaT</td>\n",
       "      <td>NaT</td>\n",
       "      <td>NaN</td>\n",
       "      <td>NaN</td>\n",
       "      <td>NaN</td>\n",
       "      <td>NaT</td>\n",
       "      <td>NaT</td>\n",
       "      <td>NaN</td>\n",
       "      <td>NaT</td>\n",
       "      <td>NaN</td>\n",
       "    </tr>\n",
       "    <tr>\n",
       "      <th>4</th>\n",
       "      <td>8917877079</td>\n",
       "      <td>8</td>\n",
       "      <td>12</td>\n",
       "      <td>0</td>\n",
       "      <td>87534.41</td>\n",
       "      <td>3.8</td>\n",
       "      <td>45.3</td>\n",
       "      <td>1</td>\n",
       "      <td>0</td>\n",
       "      <td>NaT</td>\n",
       "      <td>NaT</td>\n",
       "      <td>2020-12-14</td>\n",
       "      <td>NaN</td>\n",
       "      <td>NaN</td>\n",
       "      <td>NaN</td>\n",
       "      <td>NaT</td>\n",
       "      <td>NaT</td>\n",
       "      <td>NaN</td>\n",
       "      <td>NaT</td>\n",
       "      <td>NaN</td>\n",
       "    </tr>\n",
       "  </tbody>\n",
       "</table>\n",
       "</div>"
      ],
      "text/plain": [
       "      part_id  fund_ct  logon_ct  call_ct   balance  tenure   age  gender  \\\n",
       "0  1054161513        6        11        1  70377.57     6.0  44.2       0   \n",
       "1  5761909860        7        13        2  63505.69     6.6  44.2       0   \n",
       "2  9130086586        6        13        2  55933.94     5.9  43.7       1   \n",
       "3  5496433327        6        12        2  81072.63     5.5  45.5       0   \n",
       "4  8917877079        8        12        0  87534.41     3.8  45.3       1   \n",
       "\n",
       "   campaign click_dt bounce_dt    open_dt  curr_enrll_fl  unenrll_fl  \\\n",
       "0         0      NaT       NaT        NaT            NaN         NaN   \n",
       "1         1      NaT       NaT        NaT            NaN         NaN   \n",
       "2         1      NaT       NaT        NaT            NaN         NaN   \n",
       "3         1      NaT       NaT        NaT            NaN         NaN   \n",
       "4         0      NaT       NaT 2020-12-14            NaN         NaN   \n",
       "\n",
       "  curr_enrll_status enrll_dt unenrll_dt  web_session_id hit_dt page  \n",
       "0               NaN      NaT        NaT             NaN    NaT  NaN  \n",
       "1               NaN      NaT        NaT             NaN    NaT  NaN  \n",
       "2               NaN      NaT        NaT             NaN    NaT  NaN  \n",
       "3               NaN      NaT        NaT             NaN    NaT  NaN  \n",
       "4               NaN      NaT        NaT             NaN    NaT  NaN  "
      ]
     },
     "execution_count": 15,
     "metadata": {},
     "output_type": "execute_result"
    }
   ],
   "source": [
    "merged.head()"
   ]
  },
  {
   "cell_type": "code",
   "execution_count": 16,
   "id": "f5dccc81-b634-49a2-8f13-063cd8789283",
   "metadata": {
    "tags": []
   },
   "outputs": [],
   "source": [
    "merged[[\"click_dt\", \"bounce_dt\", \"open_dt\", \"enrll_dt\", \"unenrll_dt\", \"hit_dt\"]] = merged[[\n",
    "    \"click_dt\", \"bounce_dt\", \"open_dt\", \"enrll_dt\", \"unenrll_dt\", \"hit_dt\"]].apply(pd.to_datetime)"
   ]
  },
  {
   "cell_type": "code",
   "execution_count": 17,
   "id": "a05db68e-4133-4060-9d46-d703947eff1a",
   "metadata": {
    "tags": []
   },
   "outputs": [
    {
     "data": {
      "text/plain": [
       "part_id                       int64\n",
       "fund_ct                       int64\n",
       "logon_ct                      int64\n",
       "call_ct                       int64\n",
       "balance                     float64\n",
       "tenure                      float64\n",
       "age                         float64\n",
       "gender                        int64\n",
       "campaign                      int64\n",
       "click_dt             datetime64[ns]\n",
       "bounce_dt            datetime64[ns]\n",
       "open_dt              datetime64[ns]\n",
       "curr_enrll_fl               float64\n",
       "unenrll_fl                  float64\n",
       "curr_enrll_status            object\n",
       "enrll_dt             datetime64[ns]\n",
       "unenrll_dt           datetime64[ns]\n",
       "web_session_id              float64\n",
       "hit_dt               datetime64[ns]\n",
       "page                         object\n",
       "dtype: object"
      ]
     },
     "execution_count": 17,
     "metadata": {},
     "output_type": "execute_result"
    }
   ],
   "source": [
    "merged.dtypes"
   ]
  },
  {
   "cell_type": "code",
   "execution_count": 18,
   "id": "21beab84-c389-437c-a034-1a7a14b3cb96",
   "metadata": {},
   "outputs": [
    {
     "data": {
      "text/html": [
       "<div>\n",
       "<style scoped>\n",
       "    .dataframe tbody tr th:only-of-type {\n",
       "        vertical-align: middle;\n",
       "    }\n",
       "\n",
       "    .dataframe tbody tr th {\n",
       "        vertical-align: top;\n",
       "    }\n",
       "\n",
       "    .dataframe thead th {\n",
       "        text-align: right;\n",
       "    }\n",
       "</style>\n",
       "<table border=\"1\" class=\"dataframe\">\n",
       "  <thead>\n",
       "    <tr style=\"text-align: right;\">\n",
       "      <th></th>\n",
       "      <th>part_id</th>\n",
       "      <th>fund_ct</th>\n",
       "      <th>logon_ct</th>\n",
       "      <th>call_ct</th>\n",
       "      <th>balance</th>\n",
       "      <th>tenure</th>\n",
       "      <th>age</th>\n",
       "      <th>gender</th>\n",
       "      <th>campaign</th>\n",
       "      <th>click_dt</th>\n",
       "      <th>bounce_dt</th>\n",
       "      <th>open_dt</th>\n",
       "      <th>curr_enrll_fl</th>\n",
       "      <th>unenrll_fl</th>\n",
       "      <th>curr_enrll_status</th>\n",
       "      <th>enrll_dt</th>\n",
       "      <th>unenrll_dt</th>\n",
       "      <th>web_session_id</th>\n",
       "      <th>hit_dt</th>\n",
       "      <th>page</th>\n",
       "    </tr>\n",
       "  </thead>\n",
       "  <tbody>\n",
       "    <tr>\n",
       "      <th>38</th>\n",
       "      <td>5582493593</td>\n",
       "      <td>6</td>\n",
       "      <td>11</td>\n",
       "      <td>0</td>\n",
       "      <td>70610.76</td>\n",
       "      <td>6.2</td>\n",
       "      <td>44.3</td>\n",
       "      <td>0</td>\n",
       "      <td>0</td>\n",
       "      <td>NaT</td>\n",
       "      <td>NaT</td>\n",
       "      <td>2020-08-14</td>\n",
       "      <td>NaN</td>\n",
       "      <td>NaN</td>\n",
       "      <td>NaN</td>\n",
       "      <td>NaT</td>\n",
       "      <td>NaT</td>\n",
       "      <td>NaN</td>\n",
       "      <td>NaT</td>\n",
       "      <td>NaN</td>\n",
       "    </tr>\n",
       "    <tr>\n",
       "      <th>47</th>\n",
       "      <td>6165669036</td>\n",
       "      <td>6</td>\n",
       "      <td>12</td>\n",
       "      <td>0</td>\n",
       "      <td>63470.46</td>\n",
       "      <td>6.1</td>\n",
       "      <td>44.4</td>\n",
       "      <td>1</td>\n",
       "      <td>0</td>\n",
       "      <td>2020-11-07</td>\n",
       "      <td>NaT</td>\n",
       "      <td>2020-07-30</td>\n",
       "      <td>NaN</td>\n",
       "      <td>NaN</td>\n",
       "      <td>NaN</td>\n",
       "      <td>NaT</td>\n",
       "      <td>NaT</td>\n",
       "      <td>NaN</td>\n",
       "      <td>NaT</td>\n",
       "      <td>NaN</td>\n",
       "    </tr>\n",
       "    <tr>\n",
       "      <th>64</th>\n",
       "      <td>7359848765</td>\n",
       "      <td>7</td>\n",
       "      <td>12</td>\n",
       "      <td>0</td>\n",
       "      <td>60009.89</td>\n",
       "      <td>5.3</td>\n",
       "      <td>45.3</td>\n",
       "      <td>1</td>\n",
       "      <td>0</td>\n",
       "      <td>NaT</td>\n",
       "      <td>NaT</td>\n",
       "      <td>2020-08-14</td>\n",
       "      <td>NaN</td>\n",
       "      <td>NaN</td>\n",
       "      <td>NaN</td>\n",
       "      <td>NaT</td>\n",
       "      <td>NaT</td>\n",
       "      <td>NaN</td>\n",
       "      <td>NaT</td>\n",
       "      <td>NaN</td>\n",
       "    </tr>\n",
       "    <tr>\n",
       "      <th>77</th>\n",
       "      <td>1172782033</td>\n",
       "      <td>7</td>\n",
       "      <td>11</td>\n",
       "      <td>2</td>\n",
       "      <td>81498.82</td>\n",
       "      <td>4.7</td>\n",
       "      <td>44.3</td>\n",
       "      <td>0</td>\n",
       "      <td>1</td>\n",
       "      <td>2020-11-09</td>\n",
       "      <td>NaT</td>\n",
       "      <td>2020-08-22</td>\n",
       "      <td>NaN</td>\n",
       "      <td>NaN</td>\n",
       "      <td>NaN</td>\n",
       "      <td>NaT</td>\n",
       "      <td>NaT</td>\n",
       "      <td>NaN</td>\n",
       "      <td>NaT</td>\n",
       "      <td>NaN</td>\n",
       "    </tr>\n",
       "    <tr>\n",
       "      <th>81</th>\n",
       "      <td>667563238</td>\n",
       "      <td>8</td>\n",
       "      <td>13</td>\n",
       "      <td>0</td>\n",
       "      <td>86179.19</td>\n",
       "      <td>5.5</td>\n",
       "      <td>44.4</td>\n",
       "      <td>0</td>\n",
       "      <td>0</td>\n",
       "      <td>2020-10-17</td>\n",
       "      <td>NaT</td>\n",
       "      <td>2020-08-02</td>\n",
       "      <td>NaN</td>\n",
       "      <td>NaN</td>\n",
       "      <td>NaN</td>\n",
       "      <td>NaT</td>\n",
       "      <td>NaT</td>\n",
       "      <td>NaN</td>\n",
       "      <td>NaT</td>\n",
       "      <td>NaN</td>\n",
       "    </tr>\n",
       "  </tbody>\n",
       "</table>\n",
       "</div>"
      ],
      "text/plain": [
       "       part_id  fund_ct  logon_ct  call_ct   balance  tenure   age  gender  \\\n",
       "38  5582493593        6        11        0  70610.76     6.2  44.3       0   \n",
       "47  6165669036        6        12        0  63470.46     6.1  44.4       1   \n",
       "64  7359848765        7        12        0  60009.89     5.3  45.3       1   \n",
       "77  1172782033        7        11        2  81498.82     4.7  44.3       0   \n",
       "81   667563238        8        13        0  86179.19     5.5  44.4       0   \n",
       "\n",
       "    campaign   click_dt bounce_dt    open_dt  curr_enrll_fl  unenrll_fl  \\\n",
       "38         0        NaT       NaT 2020-08-14            NaN         NaN   \n",
       "47         0 2020-11-07       NaT 2020-07-30            NaN         NaN   \n",
       "64         0        NaT       NaT 2020-08-14            NaN         NaN   \n",
       "77         1 2020-11-09       NaT 2020-08-22            NaN         NaN   \n",
       "81         0 2020-10-17       NaT 2020-08-02            NaN         NaN   \n",
       "\n",
       "   curr_enrll_status enrll_dt unenrll_dt  web_session_id hit_dt page  \n",
       "38               NaN      NaT        NaT             NaN    NaT  NaN  \n",
       "47               NaN      NaT        NaT             NaN    NaT  NaN  \n",
       "64               NaN      NaT        NaT             NaN    NaT  NaN  \n",
       "77               NaN      NaT        NaT             NaN    NaT  NaN  \n",
       "81               NaN      NaT        NaT             NaN    NaT  NaN  "
      ]
     },
     "execution_count": 18,
     "metadata": {},
     "output_type": "execute_result"
    }
   ],
   "source": [
    "start_date = pd.to_datetime('2020-07-30')\n",
    "end_date = pd.to_datetime('2020-08-29')\n",
    "filtered_merged = merged[(merged['open_dt'] >= start_date) & (merged['open_dt'] <= end_date)]\n",
    "filtered_merged.head()"
   ]
  },
  {
   "cell_type": "code",
   "execution_count": 19,
   "id": "b5ac083c-8a90-444a-b118-61fd5f1c895d",
   "metadata": {
    "tags": []
   },
   "outputs": [
    {
     "data": {
      "text/plain": [
       "(3520, 20)"
      ]
     },
     "execution_count": 19,
     "metadata": {},
     "output_type": "execute_result"
    }
   ],
   "source": [
    "filtered_merged.shape"
   ]
  },
  {
   "cell_type": "code",
   "execution_count": 20,
   "id": "13d89ef0-40c4-4a50-a733-a3d6f48f267a",
   "metadata": {
    "tags": []
   },
   "outputs": [
    {
     "data": {
      "text/plain": [
       "8    3290\n",
       "7     230\n",
       "Name: open_dt, dtype: int64"
      ]
     },
     "execution_count": 20,
     "metadata": {},
     "output_type": "execute_result"
    }
   ],
   "source": [
    "filtered_merged[\"open_dt\"].dt.month.value_counts()"
   ]
  },
  {
   "cell_type": "code",
   "execution_count": 21,
   "id": "67c3447e-ccbd-40a2-a76e-dbfc6bac4b90",
   "metadata": {
    "tags": []
   },
   "outputs": [
    {
     "data": {
      "text/plain": [
       "((1281, 20), (1859, 20))"
      ]
     },
     "execution_count": 21,
     "metadata": {},
     "output_type": "execute_result"
    }
   ],
   "source": [
    "creative_A = filtered_merged[filtered_merged[\"campaign\"] == 0]\n",
    "creative_B = filtered_merged[filtered_merged[\"campaign\"] == 1]\n",
    "creative_A.shape, creative_B.shape"
   ]
  },
  {
   "cell_type": "code",
   "execution_count": 22,
   "id": "d64a1471-a52c-4534-a113-e81f3b39fe45",
   "metadata": {
    "tags": []
   },
   "outputs": [
    {
     "data": {
      "text/plain": [
       "(welcome    29\n",
       " Name: page, dtype: int64,\n",
       " welcome    36\n",
       " Name: page, dtype: int64)"
      ]
     },
     "execution_count": 22,
     "metadata": {},
     "output_type": "execute_result"
    }
   ],
   "source": [
    "creative_A[\"page\"].value_counts(), creative_B[\"page\"].value_counts()"
   ]
  },
  {
   "cell_type": "markdown",
   "id": "8d0e9945-9f54-4fa7-9280-8ccb1c949f3b",
   "metadata": {
    "tags": []
   },
   "source": [
    "### Summary for Question 1: Based on the creative that the advisor received, is there enough evidence to conclude that there is a difference in the advisor’s likelihood to access the process to sign up for DI on the web?\n",
    "\n",
    "We know that for the 1281 people who received Creative A in the timeframe, 29 of them ended up on the welcome page. This gives us 1252 people who did not end up on the welcome page. The conversion rate for people ending up on the welcome page from Creative A is 29/1281, 0.02263856362, or about 2.3%\n",
    "\n",
    "Of the 1859 people who received Creative B in the timeframe, 36 of them ended up on the welcome page. This gives us 1823 people who did not end up on the welcome page. The conversion rate for people ending up on the welcome page from Creative B is 36/1859, 0.01936525013, or about 1.9%\n",
    "\n",
    "Let's do Fisher's Exact Test on these numbers to see if they are statistically significant, and thus tell us if these creatives make a statistically significant difference.\n",
    "We will use a confidence interval of 95%, which gives us a p-value of 0.05 to compare against. Anything less than it means our test is statistically significant, any greater means our test does not yield statistically significant results."
   ]
  },
  {
   "cell_type": "code",
   "execution_count": 23,
   "id": "7c49d669-7638-4c50-9543-a2ef4c95c21d",
   "metadata": {
    "tags": []
   },
   "outputs": [
    {
     "data": {
      "text/plain": [
       "array([[1252,   29],\n",
       "       [1823,   36]])"
      ]
     },
     "execution_count": 23,
     "metadata": {},
     "output_type": "execute_result"
    }
   ],
   "source": [
    "tbl = np.array([ [1252, 29], \n",
    "                [1823, 36] ] )\n",
    "tbl"
   ]
  },
  {
   "cell_type": "code",
   "execution_count": 24,
   "id": "ad9e2790-5426-4f7b-a3f7-9092fb1c1551",
   "metadata": {
    "tags": []
   },
   "outputs": [
    {
     "data": {
      "text/plain": [
       "(0.8525545236158663, 0.5265779527812324)"
      ]
     },
     "execution_count": 24,
     "metadata": {},
     "output_type": "execute_result"
    }
   ],
   "source": [
    "OR, pvalue = fisher_exact(tbl)\n",
    "OR, pvalue"
   ]
  },
  {
   "cell_type": "markdown",
   "id": "91354d16-7297-4f50-a590-0f799884a304",
   "metadata": {
    "tags": []
   },
   "source": [
    "### Question 1 Answer\n",
    "\n",
    "Since we got a p-value of about 0.53, which is much higher than 0.05, we cannot say there is enough evidence to conclude that there is a difference in the advisor's likelihood to access the process to sign up for DI on the web."
   ]
  },
  {
   "cell_type": "code",
   "execution_count": 25,
   "id": "da743ada-bb7d-4fec-9a3a-95241ac2c265",
   "metadata": {
    "tags": []
   },
   "outputs": [
    {
     "data": {
      "text/plain": [
       "2020-05-03    1\n",
       "2020-07-14    2\n",
       "2020-07-24    1\n",
       "2020-07-31    1\n",
       "2020-08-02    1\n",
       "2020-08-03    2\n",
       "2020-08-06    2\n",
       "2020-08-07    2\n",
       "2020-08-08    1\n",
       "2020-08-09    1\n",
       "2020-08-10    1\n",
       "2020-08-13    2\n",
       "2020-08-14    1\n",
       "2020-08-15    1\n",
       "2020-08-18    1\n",
       "2020-08-20    2\n",
       "2020-08-22    1\n",
       "2020-08-25    1\n",
       "2020-08-26    5\n",
       "2020-09-01    1\n",
       "2020-09-08    1\n",
       "2020-09-11    1\n",
       "2020-09-23    1\n",
       "2020-10-01    1\n",
       "2020-10-26    1\n",
       "2020-11-04    1\n",
       "2020-12-01    1\n",
       "2020-12-17    1\n",
       "Name: enrll_dt, dtype: int64"
      ]
     },
     "execution_count": 25,
     "metadata": {},
     "output_type": "execute_result"
    }
   ],
   "source": [
    "filtered_merged[\"enrll_dt\"].value_counts().sort_index()"
   ]
  },
  {
   "cell_type": "code",
   "execution_count": 26,
   "id": "d84a654d-95b2-45c7-a55e-6bb64d608bb9",
   "metadata": {
    "tags": []
   },
   "outputs": [
    {
     "data": {
      "text/html": [
       "<div>\n",
       "<style scoped>\n",
       "    .dataframe tbody tr th:only-of-type {\n",
       "        vertical-align: middle;\n",
       "    }\n",
       "\n",
       "    .dataframe tbody tr th {\n",
       "        vertical-align: top;\n",
       "    }\n",
       "\n",
       "    .dataframe thead th {\n",
       "        text-align: right;\n",
       "    }\n",
       "</style>\n",
       "<table border=\"1\" class=\"dataframe\">\n",
       "  <thead>\n",
       "    <tr style=\"text-align: right;\">\n",
       "      <th></th>\n",
       "      <th>part_id</th>\n",
       "      <th>fund_ct</th>\n",
       "      <th>logon_ct</th>\n",
       "      <th>call_ct</th>\n",
       "      <th>balance</th>\n",
       "      <th>tenure</th>\n",
       "      <th>age</th>\n",
       "      <th>gender</th>\n",
       "      <th>campaign</th>\n",
       "      <th>click_dt</th>\n",
       "      <th>bounce_dt</th>\n",
       "      <th>open_dt</th>\n",
       "      <th>curr_enrll_fl</th>\n",
       "      <th>unenrll_fl</th>\n",
       "      <th>curr_enrll_status</th>\n",
       "      <th>enrll_dt</th>\n",
       "      <th>unenrll_dt</th>\n",
       "      <th>web_session_id</th>\n",
       "      <th>hit_dt</th>\n",
       "      <th>page</th>\n",
       "    </tr>\n",
       "  </thead>\n",
       "  <tbody>\n",
       "    <tr>\n",
       "      <th>37318</th>\n",
       "      <td>7583805956</td>\n",
       "      <td>5</td>\n",
       "      <td>11</td>\n",
       "      <td>0</td>\n",
       "      <td>73233.01</td>\n",
       "      <td>5.5</td>\n",
       "      <td>45.3</td>\n",
       "      <td>1</td>\n",
       "      <td>2</td>\n",
       "      <td>NaT</td>\n",
       "      <td>NaT</td>\n",
       "      <td>2020-08-12</td>\n",
       "      <td>1.0</td>\n",
       "      <td>0.0</td>\n",
       "      <td>Enrolled</td>\n",
       "      <td>2020-07-14</td>\n",
       "      <td>NaT</td>\n",
       "      <td>NaN</td>\n",
       "      <td>NaT</td>\n",
       "      <td>NaN</td>\n",
       "    </tr>\n",
       "    <tr>\n",
       "      <th>37343</th>\n",
       "      <td>6560607764</td>\n",
       "      <td>6</td>\n",
       "      <td>13</td>\n",
       "      <td>0</td>\n",
       "      <td>44360.50</td>\n",
       "      <td>7.4</td>\n",
       "      <td>45.7</td>\n",
       "      <td>0</td>\n",
       "      <td>2</td>\n",
       "      <td>NaT</td>\n",
       "      <td>NaT</td>\n",
       "      <td>2020-08-08</td>\n",
       "      <td>1.0</td>\n",
       "      <td>0.0</td>\n",
       "      <td>Enrolled</td>\n",
       "      <td>2020-07-14</td>\n",
       "      <td>NaT</td>\n",
       "      <td>NaN</td>\n",
       "      <td>NaT</td>\n",
       "      <td>NaN</td>\n",
       "    </tr>\n",
       "  </tbody>\n",
       "</table>\n",
       "</div>"
      ],
      "text/plain": [
       "          part_id  fund_ct  logon_ct  call_ct   balance  tenure   age  gender  \\\n",
       "37318  7583805956        5        11        0  73233.01     5.5  45.3       1   \n",
       "37343  6560607764        6        13        0  44360.50     7.4  45.7       0   \n",
       "\n",
       "       campaign click_dt bounce_dt    open_dt  curr_enrll_fl  unenrll_fl  \\\n",
       "37318         2      NaT       NaT 2020-08-12            1.0         0.0   \n",
       "37343         2      NaT       NaT 2020-08-08            1.0         0.0   \n",
       "\n",
       "      curr_enrll_status   enrll_dt unenrll_dt  web_session_id hit_dt page  \n",
       "37318          Enrolled 2020-07-14        NaT             NaN    NaT  NaN  \n",
       "37343          Enrolled 2020-07-14        NaT             NaN    NaT  NaN  "
      ]
     },
     "execution_count": 26,
     "metadata": {},
     "output_type": "execute_result"
    }
   ],
   "source": [
    "filtered_merged[filtered_merged[\"enrll_dt\"] == pd.to_datetime(\"2020-07-14\")]"
   ]
  },
  {
   "cell_type": "code",
   "execution_count": 27,
   "id": "8ca32510-e98b-4e9e-839f-4a914631db18",
   "metadata": {
    "tags": []
   },
   "outputs": [],
   "source": [
    "enroll = filtered_merged[filtered_merged[\"enrll_dt\"] >= filtered_merged[\"open_dt\"]]"
   ]
  },
  {
   "cell_type": "code",
   "execution_count": 28,
   "id": "94e87ecb-16eb-4c9f-b89f-e08606ee74b8",
   "metadata": {
    "tags": []
   },
   "outputs": [
    {
     "data": {
      "text/plain": [
       "((3520, 20), (34, 20))"
      ]
     },
     "execution_count": 28,
     "metadata": {},
     "output_type": "execute_result"
    }
   ],
   "source": [
    "filtered_merged.shape, enroll.shape"
   ]
  },
  {
   "cell_type": "code",
   "execution_count": 29,
   "id": "d4ef603d-e923-46cb-b9a4-0fc206a049c2",
   "metadata": {
    "tags": []
   },
   "outputs": [
    {
     "data": {
      "text/html": [
       "<div>\n",
       "<style scoped>\n",
       "    .dataframe tbody tr th:only-of-type {\n",
       "        vertical-align: middle;\n",
       "    }\n",
       "\n",
       "    .dataframe tbody tr th {\n",
       "        vertical-align: top;\n",
       "    }\n",
       "\n",
       "    .dataframe thead th {\n",
       "        text-align: right;\n",
       "    }\n",
       "</style>\n",
       "<table border=\"1\" class=\"dataframe\">\n",
       "  <thead>\n",
       "    <tr style=\"text-align: right;\">\n",
       "      <th></th>\n",
       "      <th>part_id</th>\n",
       "      <th>fund_ct</th>\n",
       "      <th>logon_ct</th>\n",
       "      <th>call_ct</th>\n",
       "      <th>balance</th>\n",
       "      <th>tenure</th>\n",
       "      <th>age</th>\n",
       "      <th>gender</th>\n",
       "      <th>campaign</th>\n",
       "      <th>click_dt</th>\n",
       "      <th>bounce_dt</th>\n",
       "      <th>open_dt</th>\n",
       "      <th>curr_enrll_fl</th>\n",
       "      <th>unenrll_fl</th>\n",
       "      <th>curr_enrll_status</th>\n",
       "      <th>enrll_dt</th>\n",
       "      <th>unenrll_dt</th>\n",
       "      <th>web_session_id</th>\n",
       "      <th>hit_dt</th>\n",
       "      <th>page</th>\n",
       "    </tr>\n",
       "  </thead>\n",
       "  <tbody>\n",
       "    <tr>\n",
       "      <th>788</th>\n",
       "      <td>1284743023</td>\n",
       "      <td>6</td>\n",
       "      <td>13</td>\n",
       "      <td>0</td>\n",
       "      <td>56107.42</td>\n",
       "      <td>6.4</td>\n",
       "      <td>46.3</td>\n",
       "      <td>1</td>\n",
       "      <td>1</td>\n",
       "      <td>2020-08-26</td>\n",
       "      <td>NaT</td>\n",
       "      <td>2020-08-26</td>\n",
       "      <td>1.0</td>\n",
       "      <td>0.0</td>\n",
       "      <td>Enrolled</td>\n",
       "      <td>2020-08-26</td>\n",
       "      <td>NaT</td>\n",
       "      <td>8.930261e+09</td>\n",
       "      <td>2020-08-26</td>\n",
       "      <td>welcome</td>\n",
       "    </tr>\n",
       "    <tr>\n",
       "      <th>1705</th>\n",
       "      <td>3545706223</td>\n",
       "      <td>6</td>\n",
       "      <td>11</td>\n",
       "      <td>2</td>\n",
       "      <td>77382.80</td>\n",
       "      <td>8.5</td>\n",
       "      <td>44.7</td>\n",
       "      <td>0</td>\n",
       "      <td>1</td>\n",
       "      <td>2020-08-11</td>\n",
       "      <td>NaT</td>\n",
       "      <td>2020-08-11</td>\n",
       "      <td>1.0</td>\n",
       "      <td>0.0</td>\n",
       "      <td>Enrolled</td>\n",
       "      <td>2020-09-01</td>\n",
       "      <td>NaT</td>\n",
       "      <td>9.979208e+09</td>\n",
       "      <td>2020-08-11</td>\n",
       "      <td>welcome</td>\n",
       "    </tr>\n",
       "    <tr>\n",
       "      <th>6538</th>\n",
       "      <td>6481540801</td>\n",
       "      <td>5</td>\n",
       "      <td>10</td>\n",
       "      <td>0</td>\n",
       "      <td>73078.44</td>\n",
       "      <td>5.8</td>\n",
       "      <td>45.2</td>\n",
       "      <td>0</td>\n",
       "      <td>0</td>\n",
       "      <td>2020-08-03</td>\n",
       "      <td>NaT</td>\n",
       "      <td>2020-08-03</td>\n",
       "      <td>1.0</td>\n",
       "      <td>0.0</td>\n",
       "      <td>Enrolled</td>\n",
       "      <td>2020-08-03</td>\n",
       "      <td>NaT</td>\n",
       "      <td>1.968138e+09</td>\n",
       "      <td>2020-08-03</td>\n",
       "      <td>welcome</td>\n",
       "    </tr>\n",
       "    <tr>\n",
       "      <th>6833</th>\n",
       "      <td>1926202122</td>\n",
       "      <td>6</td>\n",
       "      <td>12</td>\n",
       "      <td>2</td>\n",
       "      <td>78383.04</td>\n",
       "      <td>5.9</td>\n",
       "      <td>44.6</td>\n",
       "      <td>0</td>\n",
       "      <td>1</td>\n",
       "      <td>2020-08-15</td>\n",
       "      <td>NaT</td>\n",
       "      <td>2020-08-15</td>\n",
       "      <td>1.0</td>\n",
       "      <td>0.0</td>\n",
       "      <td>Enrolled</td>\n",
       "      <td>2020-09-23</td>\n",
       "      <td>NaT</td>\n",
       "      <td>NaN</td>\n",
       "      <td>NaT</td>\n",
       "      <td>NaN</td>\n",
       "    </tr>\n",
       "    <tr>\n",
       "      <th>8242</th>\n",
       "      <td>7591895189</td>\n",
       "      <td>6</td>\n",
       "      <td>11</td>\n",
       "      <td>2</td>\n",
       "      <td>85736.15</td>\n",
       "      <td>7.3</td>\n",
       "      <td>44.9</td>\n",
       "      <td>0</td>\n",
       "      <td>1</td>\n",
       "      <td>2020-08-09</td>\n",
       "      <td>NaT</td>\n",
       "      <td>2020-08-09</td>\n",
       "      <td>1.0</td>\n",
       "      <td>0.0</td>\n",
       "      <td>Enrolled</td>\n",
       "      <td>2020-09-11</td>\n",
       "      <td>NaT</td>\n",
       "      <td>6.404332e+09</td>\n",
       "      <td>2020-08-09</td>\n",
       "      <td>welcome</td>\n",
       "    </tr>\n",
       "    <tr>\n",
       "      <th>10528</th>\n",
       "      <td>8787149750</td>\n",
       "      <td>7</td>\n",
       "      <td>12</td>\n",
       "      <td>2</td>\n",
       "      <td>78265.26</td>\n",
       "      <td>5.3</td>\n",
       "      <td>44.5</td>\n",
       "      <td>0</td>\n",
       "      <td>1</td>\n",
       "      <td>2020-08-06</td>\n",
       "      <td>NaT</td>\n",
       "      <td>2020-08-06</td>\n",
       "      <td>1.0</td>\n",
       "      <td>0.0</td>\n",
       "      <td>Enrolled</td>\n",
       "      <td>2020-08-06</td>\n",
       "      <td>NaT</td>\n",
       "      <td>6.099335e+09</td>\n",
       "      <td>2020-08-06</td>\n",
       "      <td>welcome</td>\n",
       "    </tr>\n",
       "    <tr>\n",
       "      <th>10779</th>\n",
       "      <td>4651104664</td>\n",
       "      <td>6</td>\n",
       "      <td>11</td>\n",
       "      <td>2</td>\n",
       "      <td>92444.86</td>\n",
       "      <td>5.0</td>\n",
       "      <td>44.7</td>\n",
       "      <td>1</td>\n",
       "      <td>1</td>\n",
       "      <td>2020-08-10</td>\n",
       "      <td>NaT</td>\n",
       "      <td>2020-08-10</td>\n",
       "      <td>1.0</td>\n",
       "      <td>0.0</td>\n",
       "      <td>Enrolled</td>\n",
       "      <td>2020-08-26</td>\n",
       "      <td>NaT</td>\n",
       "      <td>1.224021e+08</td>\n",
       "      <td>2020-08-10</td>\n",
       "      <td>welcome</td>\n",
       "    </tr>\n",
       "    <tr>\n",
       "      <th>13477</th>\n",
       "      <td>7809583246</td>\n",
       "      <td>6</td>\n",
       "      <td>12</td>\n",
       "      <td>2</td>\n",
       "      <td>75068.63</td>\n",
       "      <td>4.5</td>\n",
       "      <td>44.6</td>\n",
       "      <td>0</td>\n",
       "      <td>1</td>\n",
       "      <td>2020-08-26</td>\n",
       "      <td>NaT</td>\n",
       "      <td>2020-08-26</td>\n",
       "      <td>1.0</td>\n",
       "      <td>0.0</td>\n",
       "      <td>Enrolled</td>\n",
       "      <td>2020-08-26</td>\n",
       "      <td>NaT</td>\n",
       "      <td>9.420903e+09</td>\n",
       "      <td>2020-08-26</td>\n",
       "      <td>welcome</td>\n",
       "    </tr>\n",
       "    <tr>\n",
       "      <th>13637</th>\n",
       "      <td>2881962842</td>\n",
       "      <td>6</td>\n",
       "      <td>13</td>\n",
       "      <td>0</td>\n",
       "      <td>64724.11</td>\n",
       "      <td>5.7</td>\n",
       "      <td>44.0</td>\n",
       "      <td>0</td>\n",
       "      <td>1</td>\n",
       "      <td>2020-08-07</td>\n",
       "      <td>NaT</td>\n",
       "      <td>2020-08-02</td>\n",
       "      <td>1.0</td>\n",
       "      <td>0.0</td>\n",
       "      <td>Enrolled</td>\n",
       "      <td>2020-09-08</td>\n",
       "      <td>NaT</td>\n",
       "      <td>1.260054e+09</td>\n",
       "      <td>2020-08-07</td>\n",
       "      <td>welcome</td>\n",
       "    </tr>\n",
       "    <tr>\n",
       "      <th>16384</th>\n",
       "      <td>9442243561</td>\n",
       "      <td>5</td>\n",
       "      <td>14</td>\n",
       "      <td>2</td>\n",
       "      <td>88679.26</td>\n",
       "      <td>6.6</td>\n",
       "      <td>46.6</td>\n",
       "      <td>0</td>\n",
       "      <td>1</td>\n",
       "      <td>2020-07-31</td>\n",
       "      <td>NaT</td>\n",
       "      <td>2020-07-31</td>\n",
       "      <td>1.0</td>\n",
       "      <td>0.0</td>\n",
       "      <td>Enrolled</td>\n",
       "      <td>2020-07-31</td>\n",
       "      <td>NaT</td>\n",
       "      <td>NaN</td>\n",
       "      <td>NaT</td>\n",
       "      <td>NaN</td>\n",
       "    </tr>\n",
       "    <tr>\n",
       "      <th>19278</th>\n",
       "      <td>9695467488</td>\n",
       "      <td>6</td>\n",
       "      <td>13</td>\n",
       "      <td>0</td>\n",
       "      <td>49877.35</td>\n",
       "      <td>6.5</td>\n",
       "      <td>43.8</td>\n",
       "      <td>1</td>\n",
       "      <td>1</td>\n",
       "      <td>2020-08-20</td>\n",
       "      <td>NaT</td>\n",
       "      <td>2020-08-20</td>\n",
       "      <td>1.0</td>\n",
       "      <td>0.0</td>\n",
       "      <td>Enrolled</td>\n",
       "      <td>2020-08-20</td>\n",
       "      <td>NaT</td>\n",
       "      <td>6.686568e+09</td>\n",
       "      <td>2020-08-20</td>\n",
       "      <td>welcome</td>\n",
       "    </tr>\n",
       "    <tr>\n",
       "      <th>21845</th>\n",
       "      <td>6111536911</td>\n",
       "      <td>6</td>\n",
       "      <td>10</td>\n",
       "      <td>0</td>\n",
       "      <td>57538.37</td>\n",
       "      <td>4.7</td>\n",
       "      <td>45.1</td>\n",
       "      <td>0</td>\n",
       "      <td>1</td>\n",
       "      <td>NaT</td>\n",
       "      <td>NaT</td>\n",
       "      <td>2020-08-03</td>\n",
       "      <td>1.0</td>\n",
       "      <td>0.0</td>\n",
       "      <td>Enrolled</td>\n",
       "      <td>2020-08-03</td>\n",
       "      <td>NaT</td>\n",
       "      <td>NaN</td>\n",
       "      <td>NaT</td>\n",
       "      <td>NaN</td>\n",
       "    </tr>\n",
       "    <tr>\n",
       "      <th>26028</th>\n",
       "      <td>3299762270</td>\n",
       "      <td>6</td>\n",
       "      <td>12</td>\n",
       "      <td>0</td>\n",
       "      <td>59794.55</td>\n",
       "      <td>5.5</td>\n",
       "      <td>44.1</td>\n",
       "      <td>0</td>\n",
       "      <td>1</td>\n",
       "      <td>2020-08-07</td>\n",
       "      <td>NaT</td>\n",
       "      <td>2020-08-07</td>\n",
       "      <td>1.0</td>\n",
       "      <td>0.0</td>\n",
       "      <td>Enrolled</td>\n",
       "      <td>2020-08-07</td>\n",
       "      <td>NaT</td>\n",
       "      <td>NaN</td>\n",
       "      <td>NaT</td>\n",
       "      <td>NaN</td>\n",
       "    </tr>\n",
       "    <tr>\n",
       "      <th>26901</th>\n",
       "      <td>8015501547</td>\n",
       "      <td>5</td>\n",
       "      <td>11</td>\n",
       "      <td>0</td>\n",
       "      <td>65120.31</td>\n",
       "      <td>6.4</td>\n",
       "      <td>45.4</td>\n",
       "      <td>1</td>\n",
       "      <td>1</td>\n",
       "      <td>2020-08-26</td>\n",
       "      <td>NaT</td>\n",
       "      <td>2020-08-26</td>\n",
       "      <td>1.0</td>\n",
       "      <td>0.0</td>\n",
       "      <td>Enrolled</td>\n",
       "      <td>2020-08-26</td>\n",
       "      <td>NaT</td>\n",
       "      <td>1.826414e+08</td>\n",
       "      <td>2020-08-26</td>\n",
       "      <td>welcome</td>\n",
       "    </tr>\n",
       "    <tr>\n",
       "      <th>28156</th>\n",
       "      <td>2456577262</td>\n",
       "      <td>7</td>\n",
       "      <td>12</td>\n",
       "      <td>2</td>\n",
       "      <td>72910.46</td>\n",
       "      <td>4.8</td>\n",
       "      <td>44.7</td>\n",
       "      <td>0</td>\n",
       "      <td>1</td>\n",
       "      <td>2020-09-19</td>\n",
       "      <td>NaT</td>\n",
       "      <td>2020-08-23</td>\n",
       "      <td>1.0</td>\n",
       "      <td>0.0</td>\n",
       "      <td>Enrolled</td>\n",
       "      <td>2020-10-01</td>\n",
       "      <td>NaT</td>\n",
       "      <td>9.148132e+09</td>\n",
       "      <td>2020-09-19</td>\n",
       "      <td>welcome</td>\n",
       "    </tr>\n",
       "    <tr>\n",
       "      <th>31315</th>\n",
       "      <td>6096587343</td>\n",
       "      <td>7</td>\n",
       "      <td>12</td>\n",
       "      <td>0</td>\n",
       "      <td>50113.73</td>\n",
       "      <td>4.7</td>\n",
       "      <td>46.2</td>\n",
       "      <td>0</td>\n",
       "      <td>1</td>\n",
       "      <td>2020-08-27</td>\n",
       "      <td>NaT</td>\n",
       "      <td>2020-08-27</td>\n",
       "      <td>1.0</td>\n",
       "      <td>0.0</td>\n",
       "      <td>Enrolled</td>\n",
       "      <td>2020-10-26</td>\n",
       "      <td>NaT</td>\n",
       "      <td>8.734341e+09</td>\n",
       "      <td>2020-08-27</td>\n",
       "      <td>welcome</td>\n",
       "    </tr>\n",
       "    <tr>\n",
       "      <th>37306</th>\n",
       "      <td>8043746606</td>\n",
       "      <td>6</td>\n",
       "      <td>12</td>\n",
       "      <td>1</td>\n",
       "      <td>59264.44</td>\n",
       "      <td>5.8</td>\n",
       "      <td>44.2</td>\n",
       "      <td>1</td>\n",
       "      <td>2</td>\n",
       "      <td>2020-08-06</td>\n",
       "      <td>NaT</td>\n",
       "      <td>2020-08-06</td>\n",
       "      <td>1.0</td>\n",
       "      <td>0.0</td>\n",
       "      <td>Enrolled</td>\n",
       "      <td>2020-08-06</td>\n",
       "      <td>NaT</td>\n",
       "      <td>NaN</td>\n",
       "      <td>NaT</td>\n",
       "      <td>NaN</td>\n",
       "    </tr>\n",
       "    <tr>\n",
       "      <th>37313</th>\n",
       "      <td>1273438789</td>\n",
       "      <td>7</td>\n",
       "      <td>12</td>\n",
       "      <td>1</td>\n",
       "      <td>54773.93</td>\n",
       "      <td>7.1</td>\n",
       "      <td>45.5</td>\n",
       "      <td>0</td>\n",
       "      <td>2</td>\n",
       "      <td>2020-08-13</td>\n",
       "      <td>NaT</td>\n",
       "      <td>2020-08-13</td>\n",
       "      <td>1.0</td>\n",
       "      <td>0.0</td>\n",
       "      <td>Enrolled</td>\n",
       "      <td>2020-12-17</td>\n",
       "      <td>NaT</td>\n",
       "      <td>NaN</td>\n",
       "      <td>NaT</td>\n",
       "      <td>NaN</td>\n",
       "    </tr>\n",
       "    <tr>\n",
       "      <th>37314</th>\n",
       "      <td>8636614387</td>\n",
       "      <td>6</td>\n",
       "      <td>10</td>\n",
       "      <td>0</td>\n",
       "      <td>63396.21</td>\n",
       "      <td>5.3</td>\n",
       "      <td>45.1</td>\n",
       "      <td>0</td>\n",
       "      <td>2</td>\n",
       "      <td>2020-08-05</td>\n",
       "      <td>NaT</td>\n",
       "      <td>2020-08-05</td>\n",
       "      <td>1.0</td>\n",
       "      <td>0.0</td>\n",
       "      <td>Enrolled</td>\n",
       "      <td>2020-08-08</td>\n",
       "      <td>NaT</td>\n",
       "      <td>7.714557e+09</td>\n",
       "      <td>2020-08-05</td>\n",
       "      <td>welcome</td>\n",
       "    </tr>\n",
       "    <tr>\n",
       "      <th>37315</th>\n",
       "      <td>1534042008</td>\n",
       "      <td>5</td>\n",
       "      <td>12</td>\n",
       "      <td>0</td>\n",
       "      <td>67388.06</td>\n",
       "      <td>3.8</td>\n",
       "      <td>44.3</td>\n",
       "      <td>0</td>\n",
       "      <td>2</td>\n",
       "      <td>2020-08-10</td>\n",
       "      <td>NaT</td>\n",
       "      <td>2020-08-10</td>\n",
       "      <td>1.0</td>\n",
       "      <td>0.0</td>\n",
       "      <td>Enrolled</td>\n",
       "      <td>2020-11-04</td>\n",
       "      <td>NaT</td>\n",
       "      <td>6.809686e+09</td>\n",
       "      <td>2020-08-10</td>\n",
       "      <td>welcome</td>\n",
       "    </tr>\n",
       "    <tr>\n",
       "      <th>37328</th>\n",
       "      <td>1998108026</td>\n",
       "      <td>7</td>\n",
       "      <td>12</td>\n",
       "      <td>1</td>\n",
       "      <td>59326.21</td>\n",
       "      <td>7.4</td>\n",
       "      <td>45.4</td>\n",
       "      <td>1</td>\n",
       "      <td>2</td>\n",
       "      <td>2020-07-30</td>\n",
       "      <td>NaT</td>\n",
       "      <td>2020-07-30</td>\n",
       "      <td>1.0</td>\n",
       "      <td>0.0</td>\n",
       "      <td>Enrolled</td>\n",
       "      <td>2020-08-10</td>\n",
       "      <td>NaT</td>\n",
       "      <td>7.660081e+09</td>\n",
       "      <td>2020-07-30</td>\n",
       "      <td>welcome</td>\n",
       "    </tr>\n",
       "    <tr>\n",
       "      <th>37329</th>\n",
       "      <td>495381496</td>\n",
       "      <td>6</td>\n",
       "      <td>12</td>\n",
       "      <td>0</td>\n",
       "      <td>64572.53</td>\n",
       "      <td>6.3</td>\n",
       "      <td>44.6</td>\n",
       "      <td>1</td>\n",
       "      <td>2</td>\n",
       "      <td>2020-10-22</td>\n",
       "      <td>NaT</td>\n",
       "      <td>2020-08-12</td>\n",
       "      <td>0.0</td>\n",
       "      <td>0.0</td>\n",
       "      <td>No Longer In Plan</td>\n",
       "      <td>2020-12-01</td>\n",
       "      <td>NaT</td>\n",
       "      <td>NaN</td>\n",
       "      <td>NaT</td>\n",
       "      <td>NaN</td>\n",
       "    </tr>\n",
       "    <tr>\n",
       "      <th>37336</th>\n",
       "      <td>6926361579</td>\n",
       "      <td>7</td>\n",
       "      <td>12</td>\n",
       "      <td>1</td>\n",
       "      <td>71914.66</td>\n",
       "      <td>6.4</td>\n",
       "      <td>44.4</td>\n",
       "      <td>1</td>\n",
       "      <td>2</td>\n",
       "      <td>2020-08-11</td>\n",
       "      <td>NaT</td>\n",
       "      <td>2020-08-09</td>\n",
       "      <td>1.0</td>\n",
       "      <td>0.0</td>\n",
       "      <td>Enrolled</td>\n",
       "      <td>2020-08-15</td>\n",
       "      <td>NaT</td>\n",
       "      <td>1.471765e+09</td>\n",
       "      <td>2020-08-11</td>\n",
       "      <td>welcome</td>\n",
       "    </tr>\n",
       "    <tr>\n",
       "      <th>37338</th>\n",
       "      <td>7132676599</td>\n",
       "      <td>6</td>\n",
       "      <td>12</td>\n",
       "      <td>0</td>\n",
       "      <td>65584.27</td>\n",
       "      <td>6.0</td>\n",
       "      <td>44.0</td>\n",
       "      <td>0</td>\n",
       "      <td>2</td>\n",
       "      <td>NaT</td>\n",
       "      <td>NaT</td>\n",
       "      <td>2020-07-30</td>\n",
       "      <td>1.0</td>\n",
       "      <td>0.0</td>\n",
       "      <td>Enrolled</td>\n",
       "      <td>2020-08-13</td>\n",
       "      <td>NaT</td>\n",
       "      <td>5.346285e+09</td>\n",
       "      <td>2020-08-13</td>\n",
       "      <td>welcome</td>\n",
       "    </tr>\n",
       "    <tr>\n",
       "      <th>37342</th>\n",
       "      <td>3041463186</td>\n",
       "      <td>6</td>\n",
       "      <td>11</td>\n",
       "      <td>1</td>\n",
       "      <td>63633.92</td>\n",
       "      <td>6.9</td>\n",
       "      <td>44.4</td>\n",
       "      <td>1</td>\n",
       "      <td>2</td>\n",
       "      <td>2020-08-01</td>\n",
       "      <td>NaT</td>\n",
       "      <td>2020-08-01</td>\n",
       "      <td>1.0</td>\n",
       "      <td>0.0</td>\n",
       "      <td>Enrolled</td>\n",
       "      <td>2020-08-13</td>\n",
       "      <td>NaT</td>\n",
       "      <td>1.848058e+09</td>\n",
       "      <td>2020-08-01</td>\n",
       "      <td>welcome</td>\n",
       "    </tr>\n",
       "    <tr>\n",
       "      <th>37354</th>\n",
       "      <td>9672869463</td>\n",
       "      <td>6</td>\n",
       "      <td>12</td>\n",
       "      <td>1</td>\n",
       "      <td>50813.73</td>\n",
       "      <td>6.0</td>\n",
       "      <td>43.9</td>\n",
       "      <td>0</td>\n",
       "      <td>2</td>\n",
       "      <td>2020-08-03</td>\n",
       "      <td>NaT</td>\n",
       "      <td>2020-08-03</td>\n",
       "      <td>0.0</td>\n",
       "      <td>0.0</td>\n",
       "      <td>No Longer In Plan</td>\n",
       "      <td>2020-08-07</td>\n",
       "      <td>NaT</td>\n",
       "      <td>NaN</td>\n",
       "      <td>NaT</td>\n",
       "      <td>NaN</td>\n",
       "    </tr>\n",
       "    <tr>\n",
       "      <th>37358</th>\n",
       "      <td>8937963714</td>\n",
       "      <td>5</td>\n",
       "      <td>12</td>\n",
       "      <td>0</td>\n",
       "      <td>61427.56</td>\n",
       "      <td>7.0</td>\n",
       "      <td>45.7</td>\n",
       "      <td>0</td>\n",
       "      <td>2</td>\n",
       "      <td>2020-08-12</td>\n",
       "      <td>NaT</td>\n",
       "      <td>2020-08-12</td>\n",
       "      <td>1.0</td>\n",
       "      <td>0.0</td>\n",
       "      <td>Enrolled</td>\n",
       "      <td>2020-08-18</td>\n",
       "      <td>NaT</td>\n",
       "      <td>4.733798e+09</td>\n",
       "      <td>2020-08-12</td>\n",
       "      <td>welcome</td>\n",
       "    </tr>\n",
       "    <tr>\n",
       "      <th>37367</th>\n",
       "      <td>3717113197</td>\n",
       "      <td>8</td>\n",
       "      <td>12</td>\n",
       "      <td>0</td>\n",
       "      <td>49846.65</td>\n",
       "      <td>7.0</td>\n",
       "      <td>45.5</td>\n",
       "      <td>0</td>\n",
       "      <td>2</td>\n",
       "      <td>2020-08-26</td>\n",
       "      <td>NaT</td>\n",
       "      <td>2020-08-26</td>\n",
       "      <td>1.0</td>\n",
       "      <td>0.0</td>\n",
       "      <td>Enrolled</td>\n",
       "      <td>2020-08-26</td>\n",
       "      <td>NaT</td>\n",
       "      <td>NaN</td>\n",
       "      <td>NaT</td>\n",
       "      <td>NaN</td>\n",
       "    </tr>\n",
       "    <tr>\n",
       "      <th>37371</th>\n",
       "      <td>877088406</td>\n",
       "      <td>7</td>\n",
       "      <td>11</td>\n",
       "      <td>1</td>\n",
       "      <td>62077.47</td>\n",
       "      <td>4.7</td>\n",
       "      <td>45.7</td>\n",
       "      <td>0</td>\n",
       "      <td>2</td>\n",
       "      <td>2020-08-25</td>\n",
       "      <td>NaT</td>\n",
       "      <td>2020-08-25</td>\n",
       "      <td>1.0</td>\n",
       "      <td>0.0</td>\n",
       "      <td>Enrolled</td>\n",
       "      <td>2020-08-25</td>\n",
       "      <td>NaT</td>\n",
       "      <td>3.129545e+09</td>\n",
       "      <td>2020-08-25</td>\n",
       "      <td>welcome</td>\n",
       "    </tr>\n",
       "    <tr>\n",
       "      <th>37375</th>\n",
       "      <td>4826079770</td>\n",
       "      <td>7</td>\n",
       "      <td>12</td>\n",
       "      <td>1</td>\n",
       "      <td>56268.03</td>\n",
       "      <td>6.7</td>\n",
       "      <td>44.6</td>\n",
       "      <td>0</td>\n",
       "      <td>2</td>\n",
       "      <td>2020-08-19</td>\n",
       "      <td>NaT</td>\n",
       "      <td>2020-08-04</td>\n",
       "      <td>1.0</td>\n",
       "      <td>0.0</td>\n",
       "      <td>Enrolled</td>\n",
       "      <td>2020-08-20</td>\n",
       "      <td>NaT</td>\n",
       "      <td>NaN</td>\n",
       "      <td>NaT</td>\n",
       "      <td>NaN</td>\n",
       "    </tr>\n",
       "    <tr>\n",
       "      <th>37376</th>\n",
       "      <td>4321337401</td>\n",
       "      <td>7</td>\n",
       "      <td>15</td>\n",
       "      <td>1</td>\n",
       "      <td>50269.61</td>\n",
       "      <td>7.2</td>\n",
       "      <td>47.1</td>\n",
       "      <td>0</td>\n",
       "      <td>2</td>\n",
       "      <td>2020-08-02</td>\n",
       "      <td>NaT</td>\n",
       "      <td>2020-07-30</td>\n",
       "      <td>1.0</td>\n",
       "      <td>0.0</td>\n",
       "      <td>Enrolled</td>\n",
       "      <td>2020-08-02</td>\n",
       "      <td>NaT</td>\n",
       "      <td>NaN</td>\n",
       "      <td>NaT</td>\n",
       "      <td>NaN</td>\n",
       "    </tr>\n",
       "    <tr>\n",
       "      <th>37379</th>\n",
       "      <td>2671956384</td>\n",
       "      <td>7</td>\n",
       "      <td>13</td>\n",
       "      <td>1</td>\n",
       "      <td>55698.46</td>\n",
       "      <td>5.6</td>\n",
       "      <td>43.4</td>\n",
       "      <td>0</td>\n",
       "      <td>2</td>\n",
       "      <td>2020-08-14</td>\n",
       "      <td>NaT</td>\n",
       "      <td>2020-08-14</td>\n",
       "      <td>1.0</td>\n",
       "      <td>0.0</td>\n",
       "      <td>Enrolled</td>\n",
       "      <td>2020-08-14</td>\n",
       "      <td>NaT</td>\n",
       "      <td>7.742487e+09</td>\n",
       "      <td>2020-08-14</td>\n",
       "      <td>welcome</td>\n",
       "    </tr>\n",
       "    <tr>\n",
       "      <th>37388</th>\n",
       "      <td>8652971234</td>\n",
       "      <td>6</td>\n",
       "      <td>12</td>\n",
       "      <td>0</td>\n",
       "      <td>70824.28</td>\n",
       "      <td>5.3</td>\n",
       "      <td>44.1</td>\n",
       "      <td>1</td>\n",
       "      <td>2</td>\n",
       "      <td>2020-08-02</td>\n",
       "      <td>NaT</td>\n",
       "      <td>2020-08-02</td>\n",
       "      <td>1.0</td>\n",
       "      <td>0.0</td>\n",
       "      <td>Enrolled</td>\n",
       "      <td>2020-08-09</td>\n",
       "      <td>NaT</td>\n",
       "      <td>3.252778e+09</td>\n",
       "      <td>2020-08-02</td>\n",
       "      <td>welcome</td>\n",
       "    </tr>\n",
       "    <tr>\n",
       "      <th>37397</th>\n",
       "      <td>208054155</td>\n",
       "      <td>6</td>\n",
       "      <td>12</td>\n",
       "      <td>0</td>\n",
       "      <td>60527.90</td>\n",
       "      <td>7.3</td>\n",
       "      <td>44.0</td>\n",
       "      <td>0</td>\n",
       "      <td>2</td>\n",
       "      <td>2020-08-22</td>\n",
       "      <td>NaT</td>\n",
       "      <td>2020-08-22</td>\n",
       "      <td>0.0</td>\n",
       "      <td>0.0</td>\n",
       "      <td>No Longer In Plan</td>\n",
       "      <td>2020-08-22</td>\n",
       "      <td>NaT</td>\n",
       "      <td>NaN</td>\n",
       "      <td>NaT</td>\n",
       "      <td>NaN</td>\n",
       "    </tr>\n",
       "  </tbody>\n",
       "</table>\n",
       "</div>"
      ],
      "text/plain": [
       "          part_id  fund_ct  logon_ct  call_ct   balance  tenure   age  gender  \\\n",
       "788    1284743023        6        13        0  56107.42     6.4  46.3       1   \n",
       "1705   3545706223        6        11        2  77382.80     8.5  44.7       0   \n",
       "6538   6481540801        5        10        0  73078.44     5.8  45.2       0   \n",
       "6833   1926202122        6        12        2  78383.04     5.9  44.6       0   \n",
       "8242   7591895189        6        11        2  85736.15     7.3  44.9       0   \n",
       "10528  8787149750        7        12        2  78265.26     5.3  44.5       0   \n",
       "10779  4651104664        6        11        2  92444.86     5.0  44.7       1   \n",
       "13477  7809583246        6        12        2  75068.63     4.5  44.6       0   \n",
       "13637  2881962842        6        13        0  64724.11     5.7  44.0       0   \n",
       "16384  9442243561        5        14        2  88679.26     6.6  46.6       0   \n",
       "19278  9695467488        6        13        0  49877.35     6.5  43.8       1   \n",
       "21845  6111536911        6        10        0  57538.37     4.7  45.1       0   \n",
       "26028  3299762270        6        12        0  59794.55     5.5  44.1       0   \n",
       "26901  8015501547        5        11        0  65120.31     6.4  45.4       1   \n",
       "28156  2456577262        7        12        2  72910.46     4.8  44.7       0   \n",
       "31315  6096587343        7        12        0  50113.73     4.7  46.2       0   \n",
       "37306  8043746606        6        12        1  59264.44     5.8  44.2       1   \n",
       "37313  1273438789        7        12        1  54773.93     7.1  45.5       0   \n",
       "37314  8636614387        6        10        0  63396.21     5.3  45.1       0   \n",
       "37315  1534042008        5        12        0  67388.06     3.8  44.3       0   \n",
       "37328  1998108026        7        12        1  59326.21     7.4  45.4       1   \n",
       "37329   495381496        6        12        0  64572.53     6.3  44.6       1   \n",
       "37336  6926361579        7        12        1  71914.66     6.4  44.4       1   \n",
       "37338  7132676599        6        12        0  65584.27     6.0  44.0       0   \n",
       "37342  3041463186        6        11        1  63633.92     6.9  44.4       1   \n",
       "37354  9672869463        6        12        1  50813.73     6.0  43.9       0   \n",
       "37358  8937963714        5        12        0  61427.56     7.0  45.7       0   \n",
       "37367  3717113197        8        12        0  49846.65     7.0  45.5       0   \n",
       "37371   877088406        7        11        1  62077.47     4.7  45.7       0   \n",
       "37375  4826079770        7        12        1  56268.03     6.7  44.6       0   \n",
       "37376  4321337401        7        15        1  50269.61     7.2  47.1       0   \n",
       "37379  2671956384        7        13        1  55698.46     5.6  43.4       0   \n",
       "37388  8652971234        6        12        0  70824.28     5.3  44.1       1   \n",
       "37397   208054155        6        12        0  60527.90     7.3  44.0       0   \n",
       "\n",
       "       campaign   click_dt bounce_dt    open_dt  curr_enrll_fl  unenrll_fl  \\\n",
       "788           1 2020-08-26       NaT 2020-08-26            1.0         0.0   \n",
       "1705          1 2020-08-11       NaT 2020-08-11            1.0         0.0   \n",
       "6538          0 2020-08-03       NaT 2020-08-03            1.0         0.0   \n",
       "6833          1 2020-08-15       NaT 2020-08-15            1.0         0.0   \n",
       "8242          1 2020-08-09       NaT 2020-08-09            1.0         0.0   \n",
       "10528         1 2020-08-06       NaT 2020-08-06            1.0         0.0   \n",
       "10779         1 2020-08-10       NaT 2020-08-10            1.0         0.0   \n",
       "13477         1 2020-08-26       NaT 2020-08-26            1.0         0.0   \n",
       "13637         1 2020-08-07       NaT 2020-08-02            1.0         0.0   \n",
       "16384         1 2020-07-31       NaT 2020-07-31            1.0         0.0   \n",
       "19278         1 2020-08-20       NaT 2020-08-20            1.0         0.0   \n",
       "21845         1        NaT       NaT 2020-08-03            1.0         0.0   \n",
       "26028         1 2020-08-07       NaT 2020-08-07            1.0         0.0   \n",
       "26901         1 2020-08-26       NaT 2020-08-26            1.0         0.0   \n",
       "28156         1 2020-09-19       NaT 2020-08-23            1.0         0.0   \n",
       "31315         1 2020-08-27       NaT 2020-08-27            1.0         0.0   \n",
       "37306         2 2020-08-06       NaT 2020-08-06            1.0         0.0   \n",
       "37313         2 2020-08-13       NaT 2020-08-13            1.0         0.0   \n",
       "37314         2 2020-08-05       NaT 2020-08-05            1.0         0.0   \n",
       "37315         2 2020-08-10       NaT 2020-08-10            1.0         0.0   \n",
       "37328         2 2020-07-30       NaT 2020-07-30            1.0         0.0   \n",
       "37329         2 2020-10-22       NaT 2020-08-12            0.0         0.0   \n",
       "37336         2 2020-08-11       NaT 2020-08-09            1.0         0.0   \n",
       "37338         2        NaT       NaT 2020-07-30            1.0         0.0   \n",
       "37342         2 2020-08-01       NaT 2020-08-01            1.0         0.0   \n",
       "37354         2 2020-08-03       NaT 2020-08-03            0.0         0.0   \n",
       "37358         2 2020-08-12       NaT 2020-08-12            1.0         0.0   \n",
       "37367         2 2020-08-26       NaT 2020-08-26            1.0         0.0   \n",
       "37371         2 2020-08-25       NaT 2020-08-25            1.0         0.0   \n",
       "37375         2 2020-08-19       NaT 2020-08-04            1.0         0.0   \n",
       "37376         2 2020-08-02       NaT 2020-07-30            1.0         0.0   \n",
       "37379         2 2020-08-14       NaT 2020-08-14            1.0         0.0   \n",
       "37388         2 2020-08-02       NaT 2020-08-02            1.0         0.0   \n",
       "37397         2 2020-08-22       NaT 2020-08-22            0.0         0.0   \n",
       "\n",
       "       curr_enrll_status   enrll_dt unenrll_dt  web_session_id     hit_dt  \\\n",
       "788             Enrolled 2020-08-26        NaT    8.930261e+09 2020-08-26   \n",
       "1705            Enrolled 2020-09-01        NaT    9.979208e+09 2020-08-11   \n",
       "6538            Enrolled 2020-08-03        NaT    1.968138e+09 2020-08-03   \n",
       "6833            Enrolled 2020-09-23        NaT             NaN        NaT   \n",
       "8242            Enrolled 2020-09-11        NaT    6.404332e+09 2020-08-09   \n",
       "10528           Enrolled 2020-08-06        NaT    6.099335e+09 2020-08-06   \n",
       "10779           Enrolled 2020-08-26        NaT    1.224021e+08 2020-08-10   \n",
       "13477           Enrolled 2020-08-26        NaT    9.420903e+09 2020-08-26   \n",
       "13637           Enrolled 2020-09-08        NaT    1.260054e+09 2020-08-07   \n",
       "16384           Enrolled 2020-07-31        NaT             NaN        NaT   \n",
       "19278           Enrolled 2020-08-20        NaT    6.686568e+09 2020-08-20   \n",
       "21845           Enrolled 2020-08-03        NaT             NaN        NaT   \n",
       "26028           Enrolled 2020-08-07        NaT             NaN        NaT   \n",
       "26901           Enrolled 2020-08-26        NaT    1.826414e+08 2020-08-26   \n",
       "28156           Enrolled 2020-10-01        NaT    9.148132e+09 2020-09-19   \n",
       "31315           Enrolled 2020-10-26        NaT    8.734341e+09 2020-08-27   \n",
       "37306           Enrolled 2020-08-06        NaT             NaN        NaT   \n",
       "37313           Enrolled 2020-12-17        NaT             NaN        NaT   \n",
       "37314           Enrolled 2020-08-08        NaT    7.714557e+09 2020-08-05   \n",
       "37315           Enrolled 2020-11-04        NaT    6.809686e+09 2020-08-10   \n",
       "37328           Enrolled 2020-08-10        NaT    7.660081e+09 2020-07-30   \n",
       "37329  No Longer In Plan 2020-12-01        NaT             NaN        NaT   \n",
       "37336           Enrolled 2020-08-15        NaT    1.471765e+09 2020-08-11   \n",
       "37338           Enrolled 2020-08-13        NaT    5.346285e+09 2020-08-13   \n",
       "37342           Enrolled 2020-08-13        NaT    1.848058e+09 2020-08-01   \n",
       "37354  No Longer In Plan 2020-08-07        NaT             NaN        NaT   \n",
       "37358           Enrolled 2020-08-18        NaT    4.733798e+09 2020-08-12   \n",
       "37367           Enrolled 2020-08-26        NaT             NaN        NaT   \n",
       "37371           Enrolled 2020-08-25        NaT    3.129545e+09 2020-08-25   \n",
       "37375           Enrolled 2020-08-20        NaT             NaN        NaT   \n",
       "37376           Enrolled 2020-08-02        NaT             NaN        NaT   \n",
       "37379           Enrolled 2020-08-14        NaT    7.742487e+09 2020-08-14   \n",
       "37388           Enrolled 2020-08-09        NaT    3.252778e+09 2020-08-02   \n",
       "37397  No Longer In Plan 2020-08-22        NaT             NaN        NaT   \n",
       "\n",
       "          page  \n",
       "788    welcome  \n",
       "1705   welcome  \n",
       "6538   welcome  \n",
       "6833       NaN  \n",
       "8242   welcome  \n",
       "10528  welcome  \n",
       "10779  welcome  \n",
       "13477  welcome  \n",
       "13637  welcome  \n",
       "16384      NaN  \n",
       "19278  welcome  \n",
       "21845      NaN  \n",
       "26028      NaN  \n",
       "26901  welcome  \n",
       "28156  welcome  \n",
       "31315  welcome  \n",
       "37306      NaN  \n",
       "37313      NaN  \n",
       "37314  welcome  \n",
       "37315  welcome  \n",
       "37328  welcome  \n",
       "37329      NaN  \n",
       "37336  welcome  \n",
       "37338  welcome  \n",
       "37342  welcome  \n",
       "37354      NaN  \n",
       "37358  welcome  \n",
       "37367      NaN  \n",
       "37371  welcome  \n",
       "37375      NaN  \n",
       "37376      NaN  \n",
       "37379  welcome  \n",
       "37388  welcome  \n",
       "37397      NaN  "
      ]
     },
     "execution_count": 29,
     "metadata": {},
     "output_type": "execute_result"
    }
   ],
   "source": [
    "enroll"
   ]
  },
  {
   "cell_type": "code",
   "execution_count": 30,
   "id": "a4c74a32-b540-416e-9f1f-402016e02e5b",
   "metadata": {
    "tags": []
   },
   "outputs": [
    {
     "data": {
      "text/plain": [
       "(1, 15, 18)"
      ]
     },
     "execution_count": 30,
     "metadata": {},
     "output_type": "execute_result"
    }
   ],
   "source": [
    "len(enroll[enroll[\"campaign\"] == 0]), len(enroll[enroll[\"campaign\"] == 1]), len(enroll[enroll[\"campaign\"] == 2])"
   ]
  },
  {
   "cell_type": "markdown",
   "id": "89df1856-0dce-49c3-81f9-e64e0a903ec9",
   "metadata": {},
   "source": [
    "### Summary for Question 2: Based on the creative that the advisor received, is there enough evidence to conclude that there is a difference in the advisor’s likelihood to enroll in DI?\n",
    "We know that for the 1281 people who opened Creative A in the timeframe, 1 of them ended up enrolling after they saw the email. This gives us 1280 people who did not enroll. The conversion rate for people enrolling after opening Creative A is 1/1281, 0.00078064012, or about 0.078%\n",
    "\n",
    "Of the 1859 people who opened Creative B in the timeframe, 15 of them ended up enrolling. This gives us 1844 people who did not end up enrolling. The conversion rate for people enrolling from Creative B is 15/1859, 0.00806885422, or about 0.81%\n",
    "\n",
    "Let's do Fisher's Exact Test on these numbers to see if they are statistically significant, and thus tell us if these creatives make a statistically significant difference. We will use a confidence interval of 95%, which gives us a p-value of 0.05 to compare against. Anything less than it means our test is statistically significant, any greater means our test does not yield statistically significant results."
   ]
  },
  {
   "cell_type": "code",
   "execution_count": 31,
   "id": "ff072514-4a23-4320-be46-6687994b17fe",
   "metadata": {
    "tags": []
   },
   "outputs": [
    {
     "data": {
      "text/plain": [
       "array([[1280,    1],\n",
       "       [1844,   15]])"
      ]
     },
     "execution_count": 31,
     "metadata": {},
     "output_type": "execute_result"
    }
   ],
   "source": [
    "tbl2 = np.array([ [1280, 1], \n",
    "                [1844, 15] ] )\n",
    "tbl2"
   ]
  },
  {
   "cell_type": "code",
   "execution_count": 32,
   "id": "fa717728-bc10-4da7-8298-47b8e34cca17",
   "metadata": {
    "tags": []
   },
   "outputs": [
    {
     "data": {
      "text/plain": [
       "(10.412147505422993, 0.0038288138529664227)"
      ]
     },
     "execution_count": 32,
     "metadata": {},
     "output_type": "execute_result"
    }
   ],
   "source": [
    "OR2, pvalue2 = fisher_exact(tbl2)\n",
    "OR2, pvalue2"
   ]
  },
  {
   "cell_type": "markdown",
   "id": "64fb86f8-202d-43b7-830d-fbe04263c9e8",
   "metadata": {},
   "source": [
    "### Question 2 Answer\n",
    "\n",
    "Since we got a p-value of about 0.0038, which is lower than 0.05, we can say there is enough evidence to conclude that there is a difference in the advisor's likelihood to access the process to enroll in DI."
   ]
  },
  {
   "cell_type": "code",
   "execution_count": 33,
   "id": "da92d917-6e1e-4fa1-8ce7-ca31132ad4f3",
   "metadata": {
    "tags": []
   },
   "outputs": [
    {
     "name": "stderr",
     "output_type": "stream",
     "text": [
      "C:\\Users\\Avi\\AppData\\Local\\Temp\\ipykernel_10564\\797956357.py:2: FutureWarning: The default value of numeric_only in DataFrame.corr is deprecated. In a future version, it will default to False. Select only valid columns or specify the value of numeric_only to silence this warning.\n",
      "  correlation_matrix = filtered_merged.corr()\n"
     ]
    },
    {
     "data": {
      "image/png": "[encoded data removed]",
      "text/plain": [
       "<Figure size 1000x800 with 2 Axes>"
      ]
     },
     "metadata": {},
     "output_type": "display_data"
    }
   ],
   "source": [
    "plt.figure(figsize=(10, 8))\n",
    "correlation_matrix = filtered_merged.corr()\n",
    "sns.heatmap(correlation_matrix, annot=True, cmap='coolwarm')\n",
    "plt.show()"
   ]
  },
  {
   "cell_type": "code",
   "execution_count": 39,
   "id": "3d507e08-4b98-4f8d-978a-32a8ba5822b3",
   "metadata": {
    "tags": []
   },
   "outputs": [
    {
     "name": "stderr",
     "output_type": "stream",
     "text": [
      "C:\\Users\\Avi\\AppData\\Local\\Temp\\ipykernel_10564\\3369230378.py:5: UserWarning: marker is redundantly defined by the 'marker' keyword argument and the fmt string \"go\" (-> marker='o'). The keyword argument will take precedence.\n",
      "  ax.plot(enroll['click_dt'], enroll['part_id'], 'go', label='Click Date', linestyle='', marker='o')\n"
     ]
    },
    {
     "data": {
      "image/png": "[encoded data removed]",
      "text/plain": [
       "<Figure size 3000x1300 with 1 Axes>"
      ]
     },
     "metadata": {},
     "output_type": "display_data"
    }
   ],
   "source": [
    "import matplotlib.dates as mdates\n",
    "fig, ax = plt.subplots(figsize=(30, 13))\n",
    "ax.plot(enroll['open_dt'], enroll['part_id'], 'bo', label='Open Date')\n",
    "ax.plot(enroll['enrll_dt'], enroll['part_id'], 'ro', label='Enroll Date')\n",
    "ax.plot(enroll['click_dt'], enroll['part_id'], 'go', label='Click Date', linestyle='', marker='o')\n",
    "\n",
    "\n",
    "for idx, row in enroll.iterrows():\n",
    "    part_id = row['part_id']\n",
    "    open_date = row['open_dt']\n",
    "    click_date = row['click_dt']\n",
    "    enroll_date = row['enrll_dt']\n",
    "    \n",
    "    if not pd.isnull(click_date):  # Check for null click dates\n",
    "        ax.plot([open_date, click_date, enroll_date], [part_id, part_id, part_id], 'o-', label=part_id)\n",
    "    \n",
    "ax.set_xlabel('Date')\n",
    "ax.xaxis.set_major_formatter(mdates.DateFormatter('%m-%d'))\n",
    "ax.xaxis.set_major_locator(mdates.DayLocator(interval=5))\n",
    "ax.axes.get_yaxis().set_visible(False)\n",
    "plt.title('Email Open to Enrollment Timeline')\n",
    "plt.show()"
   ]
  },
  {
   "cell_type": "code",
   "execution_count": 41,
   "id": "ba034b2b-029e-42d6-8262-6bfcaf747728",
   "metadata": {},
   "outputs": [
    {
     "data": {
      "text/html": [
       "<div>\n",
       "<style scoped>\n",
       "    .dataframe tbody tr th:only-of-type {\n",
       "        vertical-align: middle;\n",
       "    }\n",
       "\n",
       "    .dataframe tbody tr th {\n",
       "        vertical-align: top;\n",
       "    }\n",
       "\n",
       "    .dataframe thead th {\n",
       "        text-align: right;\n",
       "    }\n",
       "</style>\n",
       "<table border=\"1\" class=\"dataframe\">\n",
       "  <thead>\n",
       "    <tr style=\"text-align: right;\">\n",
       "      <th></th>\n",
       "      <th>part_id</th>\n",
       "      <th>fund_ct</th>\n",
       "      <th>logon_ct</th>\n",
       "      <th>call_ct</th>\n",
       "      <th>balance</th>\n",
       "      <th>tenure</th>\n",
       "      <th>age</th>\n",
       "      <th>gender</th>\n",
       "      <th>campaign</th>\n",
       "      <th>click_dt</th>\n",
       "      <th>bounce_dt</th>\n",
       "      <th>open_dt</th>\n",
       "      <th>web_session_id</th>\n",
       "      <th>hit_dt</th>\n",
       "      <th>page</th>\n",
       "    </tr>\n",
       "  </thead>\n",
       "  <tbody>\n",
       "    <tr>\n",
       "      <th>9</th>\n",
       "      <td>6383658846</td>\n",
       "      <td>6</td>\n",
       "      <td>12</td>\n",
       "      <td>0</td>\n",
       "      <td>63973.64</td>\n",
       "      <td>5.3</td>\n",
       "      <td>44.4</td>\n",
       "      <td>0</td>\n",
       "      <td>0</td>\n",
       "      <td>2020-12-17</td>\n",
       "      <td>NaT</td>\n",
       "      <td>2020-11-12</td>\n",
       "      <td>2.384315e+09</td>\n",
       "      <td>2020-12-17</td>\n",
       "      <td>welcome</td>\n",
       "    </tr>\n",
       "    <tr>\n",
       "      <th>63</th>\n",
       "      <td>7080787001</td>\n",
       "      <td>7</td>\n",
       "      <td>12</td>\n",
       "      <td>1</td>\n",
       "      <td>71125.88</td>\n",
       "      <td>6.3</td>\n",
       "      <td>46.1</td>\n",
       "      <td>1</td>\n",
       "      <td>0</td>\n",
       "      <td>2020-12-02</td>\n",
       "      <td>NaT</td>\n",
       "      <td>2020-11-03</td>\n",
       "      <td>6.032407e+09</td>\n",
       "      <td>2020-12-02</td>\n",
       "      <td>welcome</td>\n",
       "    </tr>\n",
       "    <tr>\n",
       "      <th>99</th>\n",
       "      <td>8707006716</td>\n",
       "      <td>6</td>\n",
       "      <td>12</td>\n",
       "      <td>0</td>\n",
       "      <td>37744.01</td>\n",
       "      <td>6.2</td>\n",
       "      <td>44.2</td>\n",
       "      <td>0</td>\n",
       "      <td>0</td>\n",
       "      <td>2021-01-18</td>\n",
       "      <td>NaT</td>\n",
       "      <td>2020-08-01</td>\n",
       "      <td>5.465277e+09</td>\n",
       "      <td>2021-01-18</td>\n",
       "      <td>welcome</td>\n",
       "    </tr>\n",
       "    <tr>\n",
       "      <th>122</th>\n",
       "      <td>7599450035</td>\n",
       "      <td>6</td>\n",
       "      <td>11</td>\n",
       "      <td>0</td>\n",
       "      <td>99008.46</td>\n",
       "      <td>4.0</td>\n",
       "      <td>44.3</td>\n",
       "      <td>0</td>\n",
       "      <td>0</td>\n",
       "      <td>2020-09-20</td>\n",
       "      <td>NaT</td>\n",
       "      <td>2020-09-19</td>\n",
       "      <td>8.616221e+09</td>\n",
       "      <td>2020-09-20</td>\n",
       "      <td>welcome</td>\n",
       "    </tr>\n",
       "    <tr>\n",
       "      <th>197</th>\n",
       "      <td>1284743023</td>\n",
       "      <td>6</td>\n",
       "      <td>13</td>\n",
       "      <td>0</td>\n",
       "      <td>56107.42</td>\n",
       "      <td>6.4</td>\n",
       "      <td>46.3</td>\n",
       "      <td>1</td>\n",
       "      <td>1</td>\n",
       "      <td>2020-08-26</td>\n",
       "      <td>NaT</td>\n",
       "      <td>2020-08-26</td>\n",
       "      <td>8.930261e+09</td>\n",
       "      <td>2020-08-26</td>\n",
       "      <td>welcome</td>\n",
       "    </tr>\n",
       "  </tbody>\n",
       "</table>\n",
       "</div>"
      ],
      "text/plain": [
       "        part_id  fund_ct  logon_ct  call_ct   balance  tenure   age  gender  \\\n",
       "9    6383658846        6        12        0  63973.64     5.3  44.4       0   \n",
       "63   7080787001        7        12        1  71125.88     6.3  46.1       1   \n",
       "99   8707006716        6        12        0  37744.01     6.2  44.2       0   \n",
       "122  7599450035        6        11        0  99008.46     4.0  44.3       0   \n",
       "197  1284743023        6        13        0  56107.42     6.4  46.3       1   \n",
       "\n",
       "     campaign   click_dt bounce_dt    open_dt  web_session_id     hit_dt  \\\n",
       "9           0 2020-12-17       NaT 2020-11-12    2.384315e+09 2020-12-17   \n",
       "63          0 2020-12-02       NaT 2020-11-03    6.032407e+09 2020-12-02   \n",
       "99          0 2021-01-18       NaT 2020-08-01    5.465277e+09 2021-01-18   \n",
       "122         0 2020-09-20       NaT 2020-09-19    8.616221e+09 2020-09-20   \n",
       "197         1 2020-08-26       NaT 2020-08-26    8.930261e+09 2020-08-26   \n",
       "\n",
       "        page  \n",
       "9    welcome  \n",
       "63   welcome  \n",
       "99   welcome  \n",
       "122  welcome  \n",
       "197  welcome  "
      ]
     },
     "execution_count": 41,
     "metadata": {},
     "output_type": "execute_result"
    }
   ],
   "source": [
    "clicked_welcome.head()"
   ]
  },
  {
   "cell_type": "code",
   "execution_count": 46,
   "id": "0134ebe8-fcfc-470b-a506-d16b874b691c",
   "metadata": {
    "tags": []
   },
   "outputs": [
    {
     "data": {
      "text/plain": [
       "27"
      ]
     },
     "execution_count": 46,
     "metadata": {},
     "output_type": "execute_result"
    }
   ],
   "source": [
    "clicked_welcome_enrolled = clicked_welcome.merge(enroll_data, on = \"part_id\", how = \"left\")\n",
    "clicked_welcome_enrolled = clicked_welcome_enrolled[(clicked_welcome_enrolled[\"enrll_dt\"] >= clicked_welcome_enrolled[\"click_dt\"]) &\n",
    "                                                    (clicked_welcome_enrolled[\"click_dt\"] >= clicked_welcome_enrolled[\"open_dt\"])]\n",
    "len(clicked_welcome_enrolled)"
   ]
  },
  {
   "cell_type": "code",
   "execution_count": 53,
   "id": "f4cac8e3-4781-47fb-bf93-75dc9cb96238",
   "metadata": {
    "tags": []
   },
   "outputs": [
    {
     "data": {
      "application/vnd.plotly.v1+json": {
       "config": {
        "plotlyServerURL": "https://plot.ly"
       },
       "data": [
        {
         "arrangement": "snap",
         "link": {
          "source": [
           0,
           0,
           2,
           2
          ],
          "target": [
           1,
           2,
           3,
           4
          ],
          "value": [
           31,
           37267,
           18479,
           18807
          ]
         },
         "node": {
          "label": [
           "Emails Sent",
           "Bounce Back",
           "Delivered",
           "Unopened",
           "Opened"
          ],
          "line": {
           "color": "black",
           "width": 0.5
          },
          "pad": 15,
          "thickness": 20
         },
         "type": "sankey"
        }
       ],
       "layout": {
        "autosize": true,
        "template": {
         "data": {
          "bar": [
           {
            "error_x": {
             "color": "#2a3f5f"
            },
            "error_y": {
             "color": "#2a3f5f"
            },
            "marker": {
             "line": {
              "color": "#E5ECF6",
              "width": 0.5
             },
             "pattern": {
              "fillmode": "overlay",
              "size": 10,
              "solidity": 0.2
             }
            },
            "type": "bar"
           }
          ],
          "barpolar": [
           {
            "marker": {
             "line": {
              "color": "#E5ECF6",
              "width": 0.5
             },
             "pattern": {
              "fillmode": "overlay",
              "size": 10,
              "solidity": 0.2
             }
            },
            "type": "barpolar"
           }
          ],
          "carpet": [
           {
            "aaxis": {
             "endlinecolor": "#2a3f5f",
             "gridcolor": "white",
             "linecolor": "white",
             "minorgridcolor": "white",
             "startlinecolor": "#2a3f5f"
            },
            "baxis": {
             "endlinecolor": "#2a3f5f",
             "gridcolor": "white",
             "linecolor": "white",
             "minorgridcolor": "white",
             "startlinecolor": "#2a3f5f"
            },
            "type": "carpet"
           }
          ],
          "choropleth": [
           {
            "colorbar": {
             "outlinewidth": 0,
             "ticks": ""
            },
            "type": "choropleth"
           }
          ],
          "contour": [
           {
            "colorbar": {
             "outlinewidth": 0,
             "ticks": ""
            },
            "colorscale": [
             [
              0,
              "#0d0887"
             ],
             [
              0.1111111111111111,
              "#46039f"
             ],
             [
              0.2222222222222222,
              "#7201a8"
             ],
             [
              0.3333333333333333,
              "#9c179e"
             ],
             [
              0.4444444444444444,
              "#bd3786"
             ],
             [
              0.5555555555555556,
              "#d8576b"
             ],
             [
              0.6666666666666666,
              "#ed7953"
             ],
             [
              0.7777777777777778,
              "#fb9f3a"
             ],
             [
              0.8888888888888888,
              "#fdca26"
             ],
             [
              1,
              "#f0f921"
             ]
            ],
            "type": "contour"
           }
          ],
          "contourcarpet": [
           {
            "colorbar": {
             "outlinewidth": 0,
             "ticks": ""
            },
            "type": "contourcarpet"
           }
          ],
          "heatmap": [
           {
            "colorbar": {
             "outlinewidth": 0,
             "ticks": ""
            },
            "colorscale": [
             [
              0,
              "#0d0887"
             ],
             [
              0.1111111111111111,
              "#46039f"
             ],
             [
              0.2222222222222222,
              "#7201a8"
             ],
             [
              0.3333333333333333,
              "#9c179e"
             ],
             [
              0.4444444444444444,
              "#bd3786"
             ],
             [
              0.5555555555555556,
              "#d8576b"
             ],
             [
              0.6666666666666666,
              "#ed7953"
             ],
             [
              0.7777777777777778,
              "#fb9f3a"
             ],
             [
              0.8888888888888888,
              "#fdca26"
             ],
             [
              1,
              "#f0f921"
             ]
            ],
            "type": "heatmap"
           }
          ],
          "heatmapgl": [
           {
            "colorbar": {
             "outlinewidth": 0,
             "ticks": ""
            },
            "colorscale": [
             [
              0,
              "#0d0887"
             ],
             [
              0.1111111111111111,
              "#46039f"
             ],
             [
              0.2222222222222222,
              "#7201a8"
             ],
             [
              0.3333333333333333,
              "#9c179e"
             ],
             [
              0.4444444444444444,
              "#bd3786"
             ],
             [
              0.5555555555555556,
              "#d8576b"
             ],
             [
              0.6666666666666666,
              "#ed7953"
             ],
             [
              0.7777777777777778,
              "#fb9f3a"
             ],
             [
              0.8888888888888888,
              "#fdca26"
             ],
             [
              1,
              "#f0f921"
             ]
            ],
            "type": "heatmapgl"
           }
          ],
          "histogram": [
           {
            "marker": {
             "pattern": {
              "fillmode": "overlay",
              "size": 10,
              "solidity": 0.2
             }
            },
            "type": "histogram"
           }
          ],
          "histogram2d": [
           {
            "colorbar": {
             "outlinewidth": 0,
             "ticks": ""
            },
            "colorscale": [
             [
              0,
              "#0d0887"
             ],
             [
              0.1111111111111111,
              "#46039f"
             ],
             [
              0.2222222222222222,
              "#7201a8"
             ],
             [
              0.3333333333333333,
              "#9c179e"
             ],
             [
              0.4444444444444444,
              "#bd3786"
             ],
             [
              0.5555555555555556,
              "#d8576b"
             ],
             [
              0.6666666666666666,
              "#ed7953"
             ],
             [
              0.7777777777777778,
              "#fb9f3a"
             ],
             [
              0.8888888888888888,
              "#fdca26"
             ],
             [
              1,
              "#f0f921"
             ]
            ],
            "type": "histogram2d"
           }
          ],
          "histogram2dcontour": [
           {
            "colorbar": {
             "outlinewidth": 0,
             "ticks": ""
            },
            "colorscale": [
             [
              0,
              "#0d0887"
             ],
             [
              0.1111111111111111,
              "#46039f"
             ],
             [
              0.2222222222222222,
              "#7201a8"
             ],
             [
              0.3333333333333333,
              "#9c179e"
             ],
             [
              0.4444444444444444,
              "#bd3786"
             ],
             [
              0.5555555555555556,
              "#d8576b"
             ],
             [
              0.6666666666666666,
              "#ed7953"
             ],
             [
              0.7777777777777778,
              "#fb9f3a"
             ],
             [
              0.8888888888888888,
              "#fdca26"
             ],
             [
              1,
              "#f0f921"
             ]
            ],
            "type": "histogram2dcontour"
           }
          ],
          "mesh3d": [
           {
            "colorbar": {
             "outlinewidth": 0,
             "ticks": ""
            },
            "type": "mesh3d"
           }
          ],
          "parcoords": [
           {
            "line": {
             "colorbar": {
              "outlinewidth": 0,
              "ticks": ""
             }
            },
            "type": "parcoords"
           }
          ],
          "pie": [
           {
            "automargin": true,
            "type": "pie"
           }
          ],
          "scatter": [
           {
            "fillpattern": {
             "fillmode": "overlay",
             "size": 10,
             "solidity": 0.2
            },
            "type": "scatter"
           }
          ],
          "scatter3d": [
           {
            "line": {
             "colorbar": {
              "outlinewidth": 0,
              "ticks": ""
             }
            },
            "marker": {
             "colorbar": {
              "outlinewidth": 0,
              "ticks": ""
             }
            },
            "type": "scatter3d"
           }
          ],
          "scattercarpet": [
           {
            "marker": {
             "colorbar": {
              "outlinewidth": 0,
              "ticks": ""
             }
            },
            "type": "scattercarpet"
           }
          ],
          "scattergeo": [
           {
            "marker": {
             "colorbar": {
              "outlinewidth": 0,
              "ticks": ""
             }
            },
            "type": "scattergeo"
           }
          ],
          "scattergl": [
           {
            "marker": {
             "colorbar": {
              "outlinewidth": 0,
              "ticks": ""
             }
            },
            "type": "scattergl"
           }
          ],
          "scattermapbox": [
           {
            "marker": {
             "colorbar": {
              "outlinewidth": 0,
              "ticks": ""
             }
            },
            "type": "scattermapbox"
           }
          ],
          "scatterpolar": [
           {
            "marker": {
             "colorbar": {
              "outlinewidth": 0,
              "ticks": ""
             }
            },
            "type": "scatterpolar"
           }
          ],
          "scatterpolargl": [
           {
            "marker": {
             "colorbar": {
              "outlinewidth": 0,
              "ticks": ""
             }
            },
            "type": "scatterpolargl"
           }
          ],
          "scatterternary": [
           {
            "marker": {
             "colorbar": {
              "outlinewidth": 0,
              "ticks": ""
             }
            },
            "type": "scatterternary"
           }
          ],
          "surface": [
           {
            "colorbar": {
             "outlinewidth": 0,
             "ticks": ""
            },
            "colorscale": [
             [
              0,
              "#0d0887"
             ],
             [
              0.1111111111111111,
              "#46039f"
             ],
             [
              0.2222222222222222,
              "#7201a8"
             ],
             [
              0.3333333333333333,
              "#9c179e"
             ],
             [
              0.4444444444444444,
              "#bd3786"
             ],
             [
              0.5555555555555556,
              "#d8576b"
             ],
             [
              0.6666666666666666,
              "#ed7953"
             ],
             [
              0.7777777777777778,
              "#fb9f3a"
             ],
             [
              0.8888888888888888,
              "#fdca26"
             ],
             [
              1,
              "#f0f921"
             ]
            ],
            "type": "surface"
           }
          ],
          "table": [
           {
            "cells": {
             "fill": {
              "color": "#EBF0F8"
             },
             "line": {
              "color": "white"
             }
            },
            "header": {
             "fill": {
              "color": "#C8D4E3"
             },
             "line": {
              "color": "white"
             }
            },
            "type": "table"
           }
          ]
         },
         "layout": {
          "annotationdefaults": {
           "arrowcolor": "#2a3f5f",
           "arrowhead": 0,
           "arrowwidth": 1
          },
          "autotypenumbers": "strict",
          "coloraxis": {
           "colorbar": {
            "outlinewidth": 0,
            "ticks": ""
           }
          },
          "colorscale": {
           "diverging": [
            [
             0,
             "#8e0152"
            ],
            [
             0.1,
             "#c51b7d"
            ],
            [
             0.2,
             "#de77ae"
            ],
            [
             0.3,
             "#f1b6da"
            ],
            [
             0.4,
             "#fde0ef"
            ],
            [
             0.5,
             "#f7f7f7"
            ],
            [
             0.6,
             "#e6f5d0"
            ],
            [
             0.7,
             "#b8e186"
            ],
            [
             0.8,
             "#7fbc41"
            ],
            [
             0.9,
             "#4d9221"
            ],
            [
             1,
             "#276419"
            ]
           ],
           "sequential": [
            [
             0,
             "#0d0887"
            ],
            [
             0.1111111111111111,
             "#46039f"
            ],
            [
             0.2222222222222222,
             "#7201a8"
            ],
            [
             0.3333333333333333,
             "#9c179e"
            ],
            [
             0.4444444444444444,
             "#bd3786"
            ],
            [
             0.5555555555555556,
             "#d8576b"
            ],
            [
             0.6666666666666666,
             "#ed7953"
            ],
            [
             0.7777777777777778,
             "#fb9f3a"
            ],
            [
             0.8888888888888888,
             "#fdca26"
            ],
            [
             1,
             "#f0f921"
            ]
           ],
           "sequentialminus": [
            [
             0,
             "#0d0887"
            ],
            [
             0.1111111111111111,
             "#46039f"
            ],
            [
             0.2222222222222222,
             "#7201a8"
            ],
            [
             0.3333333333333333,
             "#9c179e"
            ],
            [
             0.4444444444444444,
             "#bd3786"
            ],
            [
             0.5555555555555556,
             "#d8576b"
            ],
            [
             0.6666666666666666,
             "#ed7953"
            ],
            [
             0.7777777777777778,
             "#fb9f3a"
            ],
            [
             0.8888888888888888,
             "#fdca26"
            ],
            [
             1,
             "#f0f921"
            ]
           ]
          },
          "colorway": [
           "#636efa",
           "#EF553B",
           "#00cc96",
           "#ab63fa",
           "#FFA15A",
           "#19d3f3",
           "#FF6692",
           "#B6E880",
           "#FF97FF",
           "#FECB52"
          ],
          "font": {
           "color": "#2a3f5f"
          },
          "geo": {
           "bgcolor": "white",
           "lakecolor": "white",
           "landcolor": "#E5ECF6",
           "showlakes": true,
           "showland": true,
           "subunitcolor": "white"
          },
          "hoverlabel": {
           "align": "left"
          },
          "hovermode": "closest",
          "mapbox": {
           "style": "light"
          },
          "paper_bgcolor": "white",
          "plot_bgcolor": "#E5ECF6",
          "polar": {
           "angularaxis": {
            "gridcolor": "white",
            "linecolor": "white",
            "ticks": ""
           },
           "bgcolor": "#E5ECF6",
           "radialaxis": {
            "gridcolor": "white",
            "linecolor": "white",
            "ticks": ""
           }
          },
          "scene": {
           "xaxis": {
            "backgroundcolor": "#E5ECF6",
            "gridcolor": "white",
            "gridwidth": 2,
            "linecolor": "white",
            "showbackground": true,
            "ticks": "",
            "zerolinecolor": "white"
           },
           "yaxis": {
            "backgroundcolor": "#E5ECF6",
            "gridcolor": "white",
            "gridwidth": 2,
            "linecolor": "white",
            "showbackground": true,
            "ticks": "",
            "zerolinecolor": "white"
           },
           "zaxis": {
            "backgroundcolor": "#E5ECF6",
            "gridcolor": "white",
            "gridwidth": 2,
            "linecolor": "white",
            "showbackground": true,
            "ticks": "",
            "zerolinecolor": "white"
           }
          },
          "shapedefaults": {
           "line": {
            "color": "#2a3f5f"
           }
          },
          "ternary": {
           "aaxis": {
            "gridcolor": "white",
            "linecolor": "white",
            "ticks": ""
           },
           "baxis": {
            "gridcolor": "white",
            "linecolor": "white",
            "ticks": ""
           },
           "bgcolor": "#E5ECF6",
           "caxis": {
            "gridcolor": "white",
            "linecolor": "white",
            "ticks": ""
           }
          },
          "title": {
           "x": 0.05
          },
          "xaxis": {
           "automargin": true,
           "gridcolor": "white",
           "linecolor": "white",
           "ticks": "",
           "title": {
            "standoff": 15
           },
           "zerolinecolor": "white",
           "zerolinewidth": 2
          },
          "yaxis": {
           "automargin": true,
           "gridcolor": "white",
           "linecolor": "white",
           "ticks": "",
           "title": {
            "standoff": 15
           },
           "zerolinecolor": "white",
           "zerolinewidth": 2
          }
         }
        },
        "title": {
         "text": "Email Flow Sankey Diagram"
        }
       }
      },
      "image/png": "[encoded data removed]",
      "text/html": [
       "<div>                            <div id=\"6b45338d-b4f1-48ab-807d-edff450a588c\" class=\"plotly-graph-div\" style=\"height:525px; width:100%;\"></div>            <script type=\"text/javascript\">                require([\"plotly\"], function(Plotly) {                    window.PLOTLYENV=window.PLOTLYENV || {};                                    if (document.getElementById(\"6b45338d-b4f1-48ab-807d-edff450a588c\")) {                    Plotly.newPlot(                        \"6b45338d-b4f1-48ab-807d-edff450a588c\",                        [{\"arrangement\":\"snap\",\"link\":{\"source\":[0,0,2,2],\"target\":[1,2,3,4],\"value\":[31,37267,18479,18807]},\"node\":{\"label\":[\"Emails Sent\",\"Bounce Back\",\"Delivered\",\"Unopened\",\"Opened\"],\"line\":{\"color\":\"black\",\"width\":0.5},\"pad\":15,\"thickness\":20},\"type\":\"sankey\"}],                        {\"template\":{\"data\":{\"histogram2dcontour\":[{\"type\":\"histogram2dcontour\",\"colorbar\":{\"outlinewidth\":0,\"ticks\":\"\"},\"colorscale\":[[0.0,\"#0d0887\"],[0.1111111111111111,\"#46039f\"],[0.2222222222222222,\"#7201a8\"],[0.3333333333333333,\"#9c179e\"],[0.4444444444444444,\"#bd3786\"],[0.5555555555555556,\"#d8576b\"],[0.6666666666666666,\"#ed7953\"],[0.7777777777777778,\"#fb9f3a\"],[0.8888888888888888,\"#fdca26\"],[1.0,\"#f0f921\"]]}],\"choropleth\":[{\"type\":\"choropleth\",\"colorbar\":{\"outlinewidth\":0,\"ticks\":\"\"}}],\"histogram2d\":[{\"type\":\"histogram2d\",\"colorbar\":{\"outlinewidth\":0,\"ticks\":\"\"},\"colorscale\":[[0.0,\"#0d0887\"],[0.1111111111111111,\"#46039f\"],[0.2222222222222222,\"#7201a8\"],[0.3333333333333333,\"#9c179e\"],[0.4444444444444444,\"#bd3786\"],[0.5555555555555556,\"#d8576b\"],[0.6666666666666666,\"#ed7953\"],[0.7777777777777778,\"#fb9f3a\"],[0.8888888888888888,\"#fdca26\"],[1.0,\"#f0f921\"]]}],\"heatmap\":[{\"type\":\"heatmap\",\"colorbar\":{\"outlinewidth\":0,\"ticks\":\"\"},\"colorscale\":[[0.0,\"#0d0887\"],[0.1111111111111111,\"#46039f\"],[0.2222222222222222,\"#7201a8\"],[0.3333333333333333,\"#9c179e\"],[0.4444444444444444,\"#bd3786\"],[0.5555555555555556,\"#d8576b\"],[0.6666666666666666,\"#ed7953\"],[0.7777777777777778,\"#fb9f3a\"],[0.8888888888888888,\"#fdca26\"],[1.0,\"#f0f921\"]]}],\"heatmapgl\":[{\"type\":\"heatmapgl\",\"colorbar\":{\"outlinewidth\":0,\"ticks\":\"\"},\"colorscale\":[[0.0,\"#0d0887\"],[0.1111111111111111,\"#46039f\"],[0.2222222222222222,\"#7201a8\"],[0.3333333333333333,\"#9c179e\"],[0.4444444444444444,\"#bd3786\"],[0.5555555555555556,\"#d8576b\"],[0.6666666666666666,\"#ed7953\"],[0.7777777777777778,\"#fb9f3a\"],[0.8888888888888888,\"#fdca26\"],[1.0,\"#f0f921\"]]}],\"contourcarpet\":[{\"type\":\"contourcarpet\",\"colorbar\":{\"outlinewidth\":0,\"ticks\":\"\"}}],\"contour\":[{\"type\":\"contour\",\"colorbar\":{\"outlinewidth\":0,\"ticks\":\"\"},\"colorscale\":[[0.0,\"#0d0887\"],[0.1111111111111111,\"#46039f\"],[0.2222222222222222,\"#7201a8\"],[0.3333333333333333,\"#9c179e\"],[0.4444444444444444,\"#bd3786\"],[0.5555555555555556,\"#d8576b\"],[0.6666666666666666,\"#ed7953\"],[0.7777777777777778,\"#fb9f3a\"],[0.8888888888888888,\"#fdca26\"],[1.0,\"#f0f921\"]]}],\"surface\":[{\"type\":\"surface\",\"colorbar\":{\"outlinewidth\":0,\"ticks\":\"\"},\"colorscale\":[[0.0,\"#0d0887\"],[0.1111111111111111,\"#46039f\"],[0.2222222222222222,\"#7201a8\"],[0.3333333333333333,\"#9c179e\"],[0.4444444444444444,\"#bd3786\"],[0.5555555555555556,\"#d8576b\"],[0.6666666666666666,\"#ed7953\"],[0.7777777777777778,\"#fb9f3a\"],[0.8888888888888888,\"#fdca26\"],[1.0,\"#f0f921\"]]}],\"mesh3d\":[{\"type\":\"mesh3d\",\"colorbar\":{\"outlinewidth\":0,\"ticks\":\"\"}}],\"scatter\":[{\"fillpattern\":{\"fillmode\":\"overlay\",\"size\":10,\"solidity\":0.2},\"type\":\"scatter\"}],\"parcoords\":[{\"type\":\"parcoords\",\"line\":{\"colorbar\":{\"outlinewidth\":0,\"ticks\":\"\"}}}],\"scatterpolargl\":[{\"type\":\"scatterpolargl\",\"marker\":{\"colorbar\":{\"outlinewidth\":0,\"ticks\":\"\"}}}],\"bar\":[{\"error_x\":{\"color\":\"#2a3f5f\"},\"error_y\":{\"color\":\"#2a3f5f\"},\"marker\":{\"line\":{\"color\":\"#E5ECF6\",\"width\":0.5},\"pattern\":{\"fillmode\":\"overlay\",\"size\":10,\"solidity\":0.2}},\"type\":\"bar\"}],\"scattergeo\":[{\"type\":\"scattergeo\",\"marker\":{\"colorbar\":{\"outlinewidth\":0,\"ticks\":\"\"}}}],\"scatterpolar\":[{\"type\":\"scatterpolar\",\"marker\":{\"colorbar\":{\"outlinewidth\":0,\"ticks\":\"\"}}}],\"histogram\":[{\"marker\":{\"pattern\":{\"fillmode\":\"overlay\",\"size\":10,\"solidity\":0.2}},\"type\":\"histogram\"}],\"scattergl\":[{\"type\":\"scattergl\",\"marker\":{\"colorbar\":{\"outlinewidth\":0,\"ticks\":\"\"}}}],\"scatter3d\":[{\"type\":\"scatter3d\",\"line\":{\"colorbar\":{\"outlinewidth\":0,\"ticks\":\"\"}},\"marker\":{\"colorbar\":{\"outlinewidth\":0,\"ticks\":\"\"}}}],\"scattermapbox\":[{\"type\":\"scattermapbox\",\"marker\":{\"colorbar\":{\"outlinewidth\":0,\"ticks\":\"\"}}}],\"scatterternary\":[{\"type\":\"scatterternary\",\"marker\":{\"colorbar\":{\"outlinewidth\":0,\"ticks\":\"\"}}}],\"scattercarpet\":[{\"type\":\"scattercarpet\",\"marker\":{\"colorbar\":{\"outlinewidth\":0,\"ticks\":\"\"}}}],\"carpet\":[{\"aaxis\":{\"endlinecolor\":\"#2a3f5f\",\"gridcolor\":\"white\",\"linecolor\":\"white\",\"minorgridcolor\":\"white\",\"startlinecolor\":\"#2a3f5f\"},\"baxis\":{\"endlinecolor\":\"#2a3f5f\",\"gridcolor\":\"white\",\"linecolor\":\"white\",\"minorgridcolor\":\"white\",\"startlinecolor\":\"#2a3f5f\"},\"type\":\"carpet\"}],\"table\":[{\"cells\":{\"fill\":{\"color\":\"#EBF0F8\"},\"line\":{\"color\":\"white\"}},\"header\":{\"fill\":{\"color\":\"#C8D4E3\"},\"line\":{\"color\":\"white\"}},\"type\":\"table\"}],\"barpolar\":[{\"marker\":{\"line\":{\"color\":\"#E5ECF6\",\"width\":0.5},\"pattern\":{\"fillmode\":\"overlay\",\"size\":10,\"solidity\":0.2}},\"type\":\"barpolar\"}],\"pie\":[{\"automargin\":true,\"type\":\"pie\"}]},\"layout\":{\"autotypenumbers\":\"strict\",\"colorway\":[\"#636efa\",\"#EF553B\",\"#00cc96\",\"#ab63fa\",\"#FFA15A\",\"#19d3f3\",\"#FF6692\",\"#B6E880\",\"#FF97FF\",\"#FECB52\"],\"font\":{\"color\":\"#2a3f5f\"},\"hovermode\":\"closest\",\"hoverlabel\":{\"align\":\"left\"},\"paper_bgcolor\":\"white\",\"plot_bgcolor\":\"#E5ECF6\",\"polar\":{\"bgcolor\":\"#E5ECF6\",\"angularaxis\":{\"gridcolor\":\"white\",\"linecolor\":\"white\",\"ticks\":\"\"},\"radialaxis\":{\"gridcolor\":\"white\",\"linecolor\":\"white\",\"ticks\":\"\"}},\"ternary\":{\"bgcolor\":\"#E5ECF6\",\"aaxis\":{\"gridcolor\":\"white\",\"linecolor\":\"white\",\"ticks\":\"\"},\"baxis\":{\"gridcolor\":\"white\",\"linecolor\":\"white\",\"ticks\":\"\"},\"caxis\":{\"gridcolor\":\"white\",\"linecolor\":\"white\",\"ticks\":\"\"}},\"coloraxis\":{\"colorbar\":{\"outlinewidth\":0,\"ticks\":\"\"}},\"colorscale\":{\"sequential\":[[0.0,\"#0d0887\"],[0.1111111111111111,\"#46039f\"],[0.2222222222222222,\"#7201a8\"],[0.3333333333333333,\"#9c179e\"],[0.4444444444444444,\"#bd3786\"],[0.5555555555555556,\"#d8576b\"],[0.6666666666666666,\"#ed7953\"],[0.7777777777777778,\"#fb9f3a\"],[0.8888888888888888,\"#fdca26\"],[1.0,\"#f0f921\"]],\"sequentialminus\":[[0.0,\"#0d0887\"],[0.1111111111111111,\"#46039f\"],[0.2222222222222222,\"#7201a8\"],[0.3333333333333333,\"#9c179e\"],[0.4444444444444444,\"#bd3786\"],[0.5555555555555556,\"#d8576b\"],[0.6666666666666666,\"#ed7953\"],[0.7777777777777778,\"#fb9f3a\"],[0.8888888888888888,\"#fdca26\"],[1.0,\"#f0f921\"]],\"diverging\":[[0,\"#8e0152\"],[0.1,\"#c51b7d\"],[0.2,\"#de77ae\"],[0.3,\"#f1b6da\"],[0.4,\"#fde0ef\"],[0.5,\"#f7f7f7\"],[0.6,\"#e6f5d0\"],[0.7,\"#b8e186\"],[0.8,\"#7fbc41\"],[0.9,\"#4d9221\"],[1,\"#276419\"]]},\"xaxis\":{\"gridcolor\":\"white\",\"linecolor\":\"white\",\"ticks\":\"\",\"title\":{\"standoff\":15},\"zerolinecolor\":\"white\",\"automargin\":true,\"zerolinewidth\":2},\"yaxis\":{\"gridcolor\":\"white\",\"linecolor\":\"white\",\"ticks\":\"\",\"title\":{\"standoff\":15},\"zerolinecolor\":\"white\",\"automargin\":true,\"zerolinewidth\":2},\"scene\":{\"xaxis\":{\"backgroundcolor\":\"#E5ECF6\",\"gridcolor\":\"white\",\"linecolor\":\"white\",\"showbackground\":true,\"ticks\":\"\",\"zerolinecolor\":\"white\",\"gridwidth\":2},\"yaxis\":{\"backgroundcolor\":\"#E5ECF6\",\"gridcolor\":\"white\",\"linecolor\":\"white\",\"showbackground\":true,\"ticks\":\"\",\"zerolinecolor\":\"white\",\"gridwidth\":2},\"zaxis\":{\"backgroundcolor\":\"#E5ECF6\",\"gridcolor\":\"white\",\"linecolor\":\"white\",\"showbackground\":true,\"ticks\":\"\",\"zerolinecolor\":\"white\",\"gridwidth\":2}},\"shapedefaults\":{\"line\":{\"color\":\"#2a3f5f\"}},\"annotationdefaults\":{\"arrowcolor\":\"#2a3f5f\",\"arrowhead\":0,\"arrowwidth\":1},\"geo\":{\"bgcolor\":\"white\",\"landcolor\":\"#E5ECF6\",\"subunitcolor\":\"white\",\"showland\":true,\"showlakes\":true,\"lakecolor\":\"white\"},\"title\":{\"x\":0.05},\"mapbox\":{\"style\":\"light\"}}},\"title\":{\"text\":\"Email Flow Sankey Diagram\"}},                        {\"responsive\": true}                    ).then(function(){\n",
       "                            \n",
       "var gd = document.getElementById('6b45338d-b4f1-48ab-807d-edff450a588c');\n",
       "var x = new MutationObserver(function (mutations, observer) {{\n",
       "        var display = window.getComputedStyle(gd).display;\n",
       "        if (!display || display === 'none') {{\n",
       "            console.log([gd, 'removed!']);\n",
       "            Plotly.purge(gd);\n",
       "            observer.disconnect();\n",
       "        }}\n",
       "}});\n",
       "\n",
       "// Listen for the removal of the full notebook cells\n",
       "var notebookContainer = gd.closest('#notebook-container');\n",
       "if (notebookContainer) {{\n",
       "    x.observe(notebookContainer, {childList: true});\n",
       "}}\n",
       "\n",
       "// Listen for the clearing of the current output cell\n",
       "var outputEl = gd.closest('.output');\n",
       "if (outputEl) {{\n",
       "    x.observe(outputEl, {childList: true});\n",
       "}}\n",
       "\n",
       "                        })                };                });            </script>        </div>"
      ]
     },
     "metadata": {},
     "output_type": "display_data"
    }
   ],
   "source": [
    "import plotly.graph_objects as go\n",
    "\n",
    "# Define the nodes and links\n",
    "nodes = ['Emails Sent', 'Bounce Back', 'Delivered', 'Unopened', 'Opened']\n",
    "link_sources = [0, 0, 2, 2]  # Corresponding to 'Emails Sent', 'Emails Sent', 'Delivered', 'Delivered'\n",
    "link_targets = [1, 2, 3, 4]  # Corresponding to 'Bounce Back', 'Delivered', 'Unopened', 'Opened'\n",
    "link_values = [31, 37267, 18479, 18807]  # Corresponding to the values of each link\n",
    "\n",
    "# Create the Sankey diagram figure\n",
    "fig = go.Figure(go.Sankey(\n",
    "    arrangement=\"snap\",\n",
    "    node=dict(\n",
    "        pad=15,\n",
    "        thickness=20,\n",
    "        line=dict(color=\"black\", width=0.5),\n",
    "        label=nodes\n",
    "    ),\n",
    "    link=dict(\n",
    "        source=link_sources,\n",
    "        target=link_targets,\n",
    "        value=link_values\n",
    "    )))\n",
    "\n",
    "# Customize the appearance if needed\n",
    "fig.update_layout(title_text=\"Email Flow Sankey Diagram\")\n",
    "\n",
    "# Show the plot\n",
    "fig.show()\n"
   ]
  },
  {
   "cell_type": "code",
   "execution_count": 73,
   "id": "a872abb6-dd1e-4463-a0b3-e7f7c9117468",
   "metadata": {
    "tags": []
   },
   "outputs": [
    {
     "data": {
      "application/vnd.plotly.v1+json": {
       "config": {
        "plotlyServerURL": "https://plot.ly"
       },
       "data": [
        {
         "arrangement": "snap",
         "link": {
          "source": [
           0,
           0,
           2,
           2,
           4,
           4
          ],
          "target": [
           1,
           2,
           3,
           4,
           5,
           6
          ],
          "value": [
           0,
           37267,
           18479,
           18807,
           9411,
           9377
          ]
         },
         "node": {
          "label": [
           "Emails Sent",
           "Bounce Back",
           "Delivered",
           "Unopened",
           "Opened",
           "Did not click",
           "Clicked"
          ],
          "line": {
           "color": "black",
           "width": 0.5
          },
          "pad": 10,
          "thickness": 20
         },
         "type": "sankey"
        }
       ],
       "layout": {
        "autosize": true,
        "template": {
         "data": {
          "bar": [
           {
            "error_x": {
             "color": "#2a3f5f"
            },
            "error_y": {
             "color": "#2a3f5f"
            },
            "marker": {
             "line": {
              "color": "#E5ECF6",
              "width": 0.5
             },
             "pattern": {
              "fillmode": "overlay",
              "size": 10,
              "solidity": 0.2
             }
            },
            "type": "bar"
           }
          ],
          "barpolar": [
           {
            "marker": {
             "line": {
              "color": "#E5ECF6",
              "width": 0.5
             },
             "pattern": {
              "fillmode": "overlay",
              "size": 10,
              "solidity": 0.2
             }
            },
            "type": "barpolar"
           }
          ],
          "carpet": [
           {
            "aaxis": {
             "endlinecolor": "#2a3f5f",
             "gridcolor": "white",
             "linecolor": "white",
             "minorgridcolor": "white",
             "startlinecolor": "#2a3f5f"
            },
            "baxis": {
             "endlinecolor": "#2a3f5f",
             "gridcolor": "white",
             "linecolor": "white",
             "minorgridcolor": "white",
             "startlinecolor": "#2a3f5f"
            },
            "type": "carpet"
           }
          ],
          "choropleth": [
           {
            "colorbar": {
             "outlinewidth": 0,
             "ticks": ""
            },
            "type": "choropleth"
           }
          ],
          "contour": [
           {
            "colorbar": {
             "outlinewidth": 0,
             "ticks": ""
            },
            "colorscale": [
             [
              0,
              "#0d0887"
             ],
             [
              0.1111111111111111,
              "#46039f"
             ],
             [
              0.2222222222222222,
              "#7201a8"
             ],
             [
              0.3333333333333333,
              "#9c179e"
             ],
             [
              0.4444444444444444,
              "#bd3786"
             ],
             [
              0.5555555555555556,
              "#d8576b"
             ],
             [
              0.6666666666666666,
              "#ed7953"
             ],
             [
              0.7777777777777778,
              "#fb9f3a"
             ],
             [
              0.8888888888888888,
              "#fdca26"
             ],
             [
              1,
              "#f0f921"
             ]
            ],
            "type": "contour"
           }
          ],
          "contourcarpet": [
           {
            "colorbar": {
             "outlinewidth": 0,
             "ticks": ""
            },
            "type": "contourcarpet"
           }
          ],
          "heatmap": [
           {
            "colorbar": {
             "outlinewidth": 0,
             "ticks": ""
            },
            "colorscale": [
             [
              0,
              "#0d0887"
             ],
             [
              0.1111111111111111,
              "#46039f"
             ],
             [
              0.2222222222222222,
              "#7201a8"
             ],
             [
              0.3333333333333333,
              "#9c179e"
             ],
             [
              0.4444444444444444,
              "#bd3786"
             ],
             [
              0.5555555555555556,
              "#d8576b"
             ],
             [
              0.6666666666666666,
              "#ed7953"
             ],
             [
              0.7777777777777778,
              "#fb9f3a"
             ],
             [
              0.8888888888888888,
              "#fdca26"
             ],
             [
              1,
              "#f0f921"
             ]
            ],
            "type": "heatmap"
           }
          ],
          "heatmapgl": [
           {
            "colorbar": {
             "outlinewidth": 0,
             "ticks": ""
            },
            "colorscale": [
             [
              0,
              "#0d0887"
             ],
             [
              0.1111111111111111,
              "#46039f"
             ],
             [
              0.2222222222222222,
              "#7201a8"
             ],
             [
              0.3333333333333333,
              "#9c179e"
             ],
             [
              0.4444444444444444,
              "#bd3786"
             ],
             [
              0.5555555555555556,
              "#d8576b"
             ],
             [
              0.6666666666666666,
              "#ed7953"
             ],
             [
              0.7777777777777778,
              "#fb9f3a"
             ],
             [
              0.8888888888888888,
              "#fdca26"
             ],
             [
              1,
              "#f0f921"
             ]
            ],
            "type": "heatmapgl"
           }
          ],
          "histogram": [
           {
            "marker": {
             "pattern": {
              "fillmode": "overlay",
              "size": 10,
              "solidity": 0.2
             }
            },
            "type": "histogram"
           }
          ],
          "histogram2d": [
           {
            "colorbar": {
             "outlinewidth": 0,
             "ticks": ""
            },
            "colorscale": [
             [
              0,
              "#0d0887"
             ],
             [
              0.1111111111111111,
              "#46039f"
             ],
             [
              0.2222222222222222,
              "#7201a8"
             ],
             [
              0.3333333333333333,
              "#9c179e"
             ],
             [
              0.4444444444444444,
              "#bd3786"
             ],
             [
              0.5555555555555556,
              "#d8576b"
             ],
             [
              0.6666666666666666,
              "#ed7953"
             ],
             [
              0.7777777777777778,
              "#fb9f3a"
             ],
             [
              0.8888888888888888,
              "#fdca26"
             ],
             [
              1,
              "#f0f921"
             ]
            ],
            "type": "histogram2d"
           }
          ],
          "histogram2dcontour": [
           {
            "colorbar": {
             "outlinewidth": 0,
             "ticks": ""
            },
            "colorscale": [
             [
              0,
              "#0d0887"
             ],
             [
              0.1111111111111111,
              "#46039f"
             ],
             [
              0.2222222222222222,
              "#7201a8"
             ],
             [
              0.3333333333333333,
              "#9c179e"
             ],
             [
              0.4444444444444444,
              "#bd3786"
             ],
             [
              0.5555555555555556,
              "#d8576b"
             ],
             [
              0.6666666666666666,
              "#ed7953"
             ],
             [
              0.7777777777777778,
              "#fb9f3a"
             ],
             [
              0.8888888888888888,
              "#fdca26"
             ],
             [
              1,
              "#f0f921"
             ]
            ],
            "type": "histogram2dcontour"
           }
          ],
          "mesh3d": [
           {
            "colorbar": {
             "outlinewidth": 0,
             "ticks": ""
            },
            "type": "mesh3d"
           }
          ],
          "parcoords": [
           {
            "line": {
             "colorbar": {
              "outlinewidth": 0,
              "ticks": ""
             }
            },
            "type": "parcoords"
           }
          ],
          "pie": [
           {
            "automargin": true,
            "type": "pie"
           }
          ],
          "scatter": [
           {
            "fillpattern": {
             "fillmode": "overlay",
             "size": 10,
             "solidity": 0.2
            },
            "type": "scatter"
           }
          ],
          "scatter3d": [
           {
            "line": {
             "colorbar": {
              "outlinewidth": 0,
              "ticks": ""
             }
            },
            "marker": {
             "colorbar": {
              "outlinewidth": 0,
              "ticks": ""
             }
            },
            "type": "scatter3d"
           }
          ],
          "scattercarpet": [
           {
            "marker": {
             "colorbar": {
              "outlinewidth": 0,
              "ticks": ""
             }
            },
            "type": "scattercarpet"
           }
          ],
          "scattergeo": [
           {
            "marker": {
             "colorbar": {
              "outlinewidth": 0,
              "ticks": ""
             }
            },
            "type": "scattergeo"
           }
          ],
          "scattergl": [
           {
            "marker": {
             "colorbar": {
              "outlinewidth": 0,
              "ticks": ""
             }
            },
            "type": "scattergl"
           }
          ],
          "scattermapbox": [
           {
            "marker": {
             "colorbar": {
              "outlinewidth": 0,
              "ticks": ""
             }
            },
            "type": "scattermapbox"
           }
          ],
          "scatterpolar": [
           {
            "marker": {
             "colorbar": {
              "outlinewidth": 0,
              "ticks": ""
             }
            },
            "type": "scatterpolar"
           }
          ],
          "scatterpolargl": [
           {
            "marker": {
             "colorbar": {
              "outlinewidth": 0,
              "ticks": ""
             }
            },
            "type": "scatterpolargl"
           }
          ],
          "scatterternary": [
           {
            "marker": {
             "colorbar": {
              "outlinewidth": 0,
              "ticks": ""
             }
            },
            "type": "scatterternary"
           }
          ],
          "surface": [
           {
            "colorbar": {
             "outlinewidth": 0,
             "ticks": ""
            },
            "colorscale": [
             [
              0,
              "#0d0887"
             ],
             [
              0.1111111111111111,
              "#46039f"
             ],
             [
              0.2222222222222222,
              "#7201a8"
             ],
             [
              0.3333333333333333,
              "#9c179e"
             ],
             [
              0.4444444444444444,
              "#bd3786"
             ],
             [
              0.5555555555555556,
              "#d8576b"
             ],
             [
              0.6666666666666666,
              "#ed7953"
             ],
             [
              0.7777777777777778,
              "#fb9f3a"
             ],
             [
              0.8888888888888888,
              "#fdca26"
             ],
             [
              1,
              "#f0f921"
             ]
            ],
            "type": "surface"
           }
          ],
          "table": [
           {
            "cells": {
             "fill": {
              "color": "#EBF0F8"
             },
             "line": {
              "color": "white"
             }
            },
            "header": {
             "fill": {
              "color": "#C8D4E3"
             },
             "line": {
              "color": "white"
             }
            },
            "type": "table"
           }
          ]
         },
         "layout": {
          "annotationdefaults": {
           "arrowcolor": "#2a3f5f",
           "arrowhead": 0,
           "arrowwidth": 1
          },
          "autotypenumbers": "strict",
          "coloraxis": {
           "colorbar": {
            "outlinewidth": 0,
            "ticks": ""
           }
          },
          "colorscale": {
           "diverging": [
            [
             0,
             "#8e0152"
            ],
            [
             0.1,
             "#c51b7d"
            ],
            [
             0.2,
             "#de77ae"
            ],
            [
             0.3,
             "#f1b6da"
            ],
            [
             0.4,
             "#fde0ef"
            ],
            [
             0.5,
             "#f7f7f7"
            ],
            [
             0.6,
             "#e6f5d0"
            ],
            [
             0.7,
             "#b8e186"
            ],
            [
             0.8,
             "#7fbc41"
            ],
            [
             0.9,
             "#4d9221"
            ],
            [
             1,
             "#276419"
            ]
           ],
           "sequential": [
            [
             0,
             "#0d0887"
            ],
            [
             0.1111111111111111,
             "#46039f"
            ],
            [
             0.2222222222222222,
             "#7201a8"
            ],
            [
             0.3333333333333333,
             "#9c179e"
            ],
            [
             0.4444444444444444,
             "#bd3786"
            ],
            [
             0.5555555555555556,
             "#d8576b"
            ],
            [
             0.6666666666666666,
             "#ed7953"
            ],
            [
             0.7777777777777778,
             "#fb9f3a"
            ],
            [
             0.8888888888888888,
             "#fdca26"
            ],
            [
             1,
             "#f0f921"
            ]
           ],
           "sequentialminus": [
            [
             0,
             "#0d0887"
            ],
            [
             0.1111111111111111,
             "#46039f"
            ],
            [
             0.2222222222222222,
             "#7201a8"
            ],
            [
             0.3333333333333333,
             "#9c179e"
            ],
            [
             0.4444444444444444,
             "#bd3786"
            ],
            [
             0.5555555555555556,
             "#d8576b"
            ],
            [
             0.6666666666666666,
             "#ed7953"
            ],
            [
             0.7777777777777778,
             "#fb9f3a"
            ],
            [
             0.8888888888888888,
             "#fdca26"
            ],
            [
             1,
             "#f0f921"
            ]
           ]
          },
          "colorway": [
           "#636efa",
           "#EF553B",
           "#00cc96",
           "#ab63fa",
           "#FFA15A",
           "#19d3f3",
           "#FF6692",
           "#B6E880",
           "#FF97FF",
           "#FECB52"
          ],
          "font": {
           "color": "#2a3f5f"
          },
          "geo": {
           "bgcolor": "white",
           "lakecolor": "white",
           "landcolor": "#E5ECF6",
           "showlakes": true,
           "showland": true,
           "subunitcolor": "white"
          },
          "hoverlabel": {
           "align": "left"
          },
          "hovermode": "closest",
          "mapbox": {
           "style": "light"
          },
          "paper_bgcolor": "white",
          "plot_bgcolor": "#E5ECF6",
          "polar": {
           "angularaxis": {
            "gridcolor": "white",
            "linecolor": "white",
            "ticks": ""
           },
           "bgcolor": "#E5ECF6",
           "radialaxis": {
            "gridcolor": "white",
            "linecolor": "white",
            "ticks": ""
           }
          },
          "scene": {
           "xaxis": {
            "backgroundcolor": "#E5ECF6",
            "gridcolor": "white",
            "gridwidth": 2,
            "linecolor": "white",
            "showbackground": true,
            "ticks": "",
            "zerolinecolor": "white"
           },
           "yaxis": {
            "backgroundcolor": "#E5ECF6",
            "gridcolor": "white",
            "gridwidth": 2,
            "linecolor": "white",
            "showbackground": true,
            "ticks": "",
            "zerolinecolor": "white"
           },
           "zaxis": {
            "backgroundcolor": "#E5ECF6",
            "gridcolor": "white",
            "gridwidth": 2,
            "linecolor": "white",
            "showbackground": true,
            "ticks": "",
            "zerolinecolor": "white"
           }
          },
          "shapedefaults": {
           "line": {
            "color": "#2a3f5f"
           }
          },
          "ternary": {
           "aaxis": {
            "gridcolor": "white",
            "linecolor": "white",
            "ticks": ""
           },
           "baxis": {
            "gridcolor": "white",
            "linecolor": "white",
            "ticks": ""
           },
           "bgcolor": "#E5ECF6",
           "caxis": {
            "gridcolor": "white",
            "linecolor": "white",
            "ticks": ""
           }
          },
          "title": {
           "x": 0.05
          },
          "xaxis": {
           "automargin": true,
           "gridcolor": "white",
           "linecolor": "white",
           "ticks": "",
           "title": {
            "standoff": 15
           },
           "zerolinecolor": "white",
           "zerolinewidth": 2
          },
          "yaxis": {
           "automargin": true,
           "gridcolor": "white",
           "linecolor": "white",
           "ticks": "",
           "title": {
            "standoff": 15
           },
           "zerolinecolor": "white",
           "zerolinewidth": 2
          }
         }
        },
        "title": {
         "text": "Email Flow Sankey Diagram"
        }
       }
      },
      "image/png": "[encoded data removed]",
      "text/html": [
       "<div>                            <div id=\"89bb8c5d-4358-4738-97b8-996587300328\" class=\"plotly-graph-div\" style=\"height:525px; width:100%;\"></div>            <script type=\"text/javascript\">                require([\"plotly\"], function(Plotly) {                    window.PLOTLYENV=window.PLOTLYENV || {};                                    if (document.getElementById(\"89bb8c5d-4358-4738-97b8-996587300328\")) {                    Plotly.newPlot(                        \"89bb8c5d-4358-4738-97b8-996587300328\",                        [{\"arrangement\":\"snap\",\"link\":{\"source\":[0,0,2,2,4,4],\"target\":[1,2,3,4,5,6],\"value\":[0,37267,18479,18807,9411,9377]},\"node\":{\"label\":[\"Emails Sent\",\"Bounce Back\",\"Delivered\",\"Unopened\",\"Opened\",\"Did not click\",\"Clicked\"],\"line\":{\"color\":\"black\",\"width\":0.5},\"pad\":10,\"thickness\":20},\"type\":\"sankey\"}],                        {\"template\":{\"data\":{\"histogram2dcontour\":[{\"type\":\"histogram2dcontour\",\"colorbar\":{\"outlinewidth\":0,\"ticks\":\"\"},\"colorscale\":[[0.0,\"#0d0887\"],[0.1111111111111111,\"#46039f\"],[0.2222222222222222,\"#7201a8\"],[0.3333333333333333,\"#9c179e\"],[0.4444444444444444,\"#bd3786\"],[0.5555555555555556,\"#d8576b\"],[0.6666666666666666,\"#ed7953\"],[0.7777777777777778,\"#fb9f3a\"],[0.8888888888888888,\"#fdca26\"],[1.0,\"#f0f921\"]]}],\"choropleth\":[{\"type\":\"choropleth\",\"colorbar\":{\"outlinewidth\":0,\"ticks\":\"\"}}],\"histogram2d\":[{\"type\":\"histogram2d\",\"colorbar\":{\"outlinewidth\":0,\"ticks\":\"\"},\"colorscale\":[[0.0,\"#0d0887\"],[0.1111111111111111,\"#46039f\"],[0.2222222222222222,\"#7201a8\"],[0.3333333333333333,\"#9c179e\"],[0.4444444444444444,\"#bd3786\"],[0.5555555555555556,\"#d8576b\"],[0.6666666666666666,\"#ed7953\"],[0.7777777777777778,\"#fb9f3a\"],[0.8888888888888888,\"#fdca26\"],[1.0,\"#f0f921\"]]}],\"heatmap\":[{\"type\":\"heatmap\",\"colorbar\":{\"outlinewidth\":0,\"ticks\":\"\"},\"colorscale\":[[0.0,\"#0d0887\"],[0.1111111111111111,\"#46039f\"],[0.2222222222222222,\"#7201a8\"],[0.3333333333333333,\"#9c179e\"],[0.4444444444444444,\"#bd3786\"],[0.5555555555555556,\"#d8576b\"],[0.6666666666666666,\"#ed7953\"],[0.7777777777777778,\"#fb9f3a\"],[0.8888888888888888,\"#fdca26\"],[1.0,\"#f0f921\"]]}],\"heatmapgl\":[{\"type\":\"heatmapgl\",\"colorbar\":{\"outlinewidth\":0,\"ticks\":\"\"},\"colorscale\":[[0.0,\"#0d0887\"],[0.1111111111111111,\"#46039f\"],[0.2222222222222222,\"#7201a8\"],[0.3333333333333333,\"#9c179e\"],[0.4444444444444444,\"#bd3786\"],[0.5555555555555556,\"#d8576b\"],[0.6666666666666666,\"#ed7953\"],[0.7777777777777778,\"#fb9f3a\"],[0.8888888888888888,\"#fdca26\"],[1.0,\"#f0f921\"]]}],\"contourcarpet\":[{\"type\":\"contourcarpet\",\"colorbar\":{\"outlinewidth\":0,\"ticks\":\"\"}}],\"contour\":[{\"type\":\"contour\",\"colorbar\":{\"outlinewidth\":0,\"ticks\":\"\"},\"colorscale\":[[0.0,\"#0d0887\"],[0.1111111111111111,\"#46039f\"],[0.2222222222222222,\"#7201a8\"],[0.3333333333333333,\"#9c179e\"],[0.4444444444444444,\"#bd3786\"],[0.5555555555555556,\"#d8576b\"],[0.6666666666666666,\"#ed7953\"],[0.7777777777777778,\"#fb9f3a\"],[0.8888888888888888,\"#fdca26\"],[1.0,\"#f0f921\"]]}],\"surface\":[{\"type\":\"surface\",\"colorbar\":{\"outlinewidth\":0,\"ticks\":\"\"},\"colorscale\":[[0.0,\"#0d0887\"],[0.1111111111111111,\"#46039f\"],[0.2222222222222222,\"#7201a8\"],[0.3333333333333333,\"#9c179e\"],[0.4444444444444444,\"#bd3786\"],[0.5555555555555556,\"#d8576b\"],[0.6666666666666666,\"#ed7953\"],[0.7777777777777778,\"#fb9f3a\"],[0.8888888888888888,\"#fdca26\"],[1.0,\"#f0f921\"]]}],\"mesh3d\":[{\"type\":\"mesh3d\",\"colorbar\":{\"outlinewidth\":0,\"ticks\":\"\"}}],\"scatter\":[{\"fillpattern\":{\"fillmode\":\"overlay\",\"size\":10,\"solidity\":0.2},\"type\":\"scatter\"}],\"parcoords\":[{\"type\":\"parcoords\",\"line\":{\"colorbar\":{\"outlinewidth\":0,\"ticks\":\"\"}}}],\"scatterpolargl\":[{\"type\":\"scatterpolargl\",\"marker\":{\"colorbar\":{\"outlinewidth\":0,\"ticks\":\"\"}}}],\"bar\":[{\"error_x\":{\"color\":\"#2a3f5f\"},\"error_y\":{\"color\":\"#2a3f5f\"},\"marker\":{\"line\":{\"color\":\"#E5ECF6\",\"width\":0.5},\"pattern\":{\"fillmode\":\"overlay\",\"size\":10,\"solidity\":0.2}},\"type\":\"bar\"}],\"scattergeo\":[{\"type\":\"scattergeo\",\"marker\":{\"colorbar\":{\"outlinewidth\":0,\"ticks\":\"\"}}}],\"scatterpolar\":[{\"type\":\"scatterpolar\",\"marker\":{\"colorbar\":{\"outlinewidth\":0,\"ticks\":\"\"}}}],\"histogram\":[{\"marker\":{\"pattern\":{\"fillmode\":\"overlay\",\"size\":10,\"solidity\":0.2}},\"type\":\"histogram\"}],\"scattergl\":[{\"type\":\"scattergl\",\"marker\":{\"colorbar\":{\"outlinewidth\":0,\"ticks\":\"\"}}}],\"scatter3d\":[{\"type\":\"scatter3d\",\"line\":{\"colorbar\":{\"outlinewidth\":0,\"ticks\":\"\"}},\"marker\":{\"colorbar\":{\"outlinewidth\":0,\"ticks\":\"\"}}}],\"scattermapbox\":[{\"type\":\"scattermapbox\",\"marker\":{\"colorbar\":{\"outlinewidth\":0,\"ticks\":\"\"}}}],\"scatterternary\":[{\"type\":\"scatterternary\",\"marker\":{\"colorbar\":{\"outlinewidth\":0,\"ticks\":\"\"}}}],\"scattercarpet\":[{\"type\":\"scattercarpet\",\"marker\":{\"colorbar\":{\"outlinewidth\":0,\"ticks\":\"\"}}}],\"carpet\":[{\"aaxis\":{\"endlinecolor\":\"#2a3f5f\",\"gridcolor\":\"white\",\"linecolor\":\"white\",\"minorgridcolor\":\"white\",\"startlinecolor\":\"#2a3f5f\"},\"baxis\":{\"endlinecolor\":\"#2a3f5f\",\"gridcolor\":\"white\",\"linecolor\":\"white\",\"minorgridcolor\":\"white\",\"startlinecolor\":\"#2a3f5f\"},\"type\":\"carpet\"}],\"table\":[{\"cells\":{\"fill\":{\"color\":\"#EBF0F8\"},\"line\":{\"color\":\"white\"}},\"header\":{\"fill\":{\"color\":\"#C8D4E3\"},\"line\":{\"color\":\"white\"}},\"type\":\"table\"}],\"barpolar\":[{\"marker\":{\"line\":{\"color\":\"#E5ECF6\",\"width\":0.5},\"pattern\":{\"fillmode\":\"overlay\",\"size\":10,\"solidity\":0.2}},\"type\":\"barpolar\"}],\"pie\":[{\"automargin\":true,\"type\":\"pie\"}]},\"layout\":{\"autotypenumbers\":\"strict\",\"colorway\":[\"#636efa\",\"#EF553B\",\"#00cc96\",\"#ab63fa\",\"#FFA15A\",\"#19d3f3\",\"#FF6692\",\"#B6E880\",\"#FF97FF\",\"#FECB52\"],\"font\":{\"color\":\"#2a3f5f\"},\"hovermode\":\"closest\",\"hoverlabel\":{\"align\":\"left\"},\"paper_bgcolor\":\"white\",\"plot_bgcolor\":\"#E5ECF6\",\"polar\":{\"bgcolor\":\"#E5ECF6\",\"angularaxis\":{\"gridcolor\":\"white\",\"linecolor\":\"white\",\"ticks\":\"\"},\"radialaxis\":{\"gridcolor\":\"white\",\"linecolor\":\"white\",\"ticks\":\"\"}},\"ternary\":{\"bgcolor\":\"#E5ECF6\",\"aaxis\":{\"gridcolor\":\"white\",\"linecolor\":\"white\",\"ticks\":\"\"},\"baxis\":{\"gridcolor\":\"white\",\"linecolor\":\"white\",\"ticks\":\"\"},\"caxis\":{\"gridcolor\":\"white\",\"linecolor\":\"white\",\"ticks\":\"\"}},\"coloraxis\":{\"colorbar\":{\"outlinewidth\":0,\"ticks\":\"\"}},\"colorscale\":{\"sequential\":[[0.0,\"#0d0887\"],[0.1111111111111111,\"#46039f\"],[0.2222222222222222,\"#7201a8\"],[0.3333333333333333,\"#9c179e\"],[0.4444444444444444,\"#bd3786\"],[0.5555555555555556,\"#d8576b\"],[0.6666666666666666,\"#ed7953\"],[0.7777777777777778,\"#fb9f3a\"],[0.8888888888888888,\"#fdca26\"],[1.0,\"#f0f921\"]],\"sequentialminus\":[[0.0,\"#0d0887\"],[0.1111111111111111,\"#46039f\"],[0.2222222222222222,\"#7201a8\"],[0.3333333333333333,\"#9c179e\"],[0.4444444444444444,\"#bd3786\"],[0.5555555555555556,\"#d8576b\"],[0.6666666666666666,\"#ed7953\"],[0.7777777777777778,\"#fb9f3a\"],[0.8888888888888888,\"#fdca26\"],[1.0,\"#f0f921\"]],\"diverging\":[[0,\"#8e0152\"],[0.1,\"#c51b7d\"],[0.2,\"#de77ae\"],[0.3,\"#f1b6da\"],[0.4,\"#fde0ef\"],[0.5,\"#f7f7f7\"],[0.6,\"#e6f5d0\"],[0.7,\"#b8e186\"],[0.8,\"#7fbc41\"],[0.9,\"#4d9221\"],[1,\"#276419\"]]},\"xaxis\":{\"gridcolor\":\"white\",\"linecolor\":\"white\",\"ticks\":\"\",\"title\":{\"standoff\":15},\"zerolinecolor\":\"white\",\"automargin\":true,\"zerolinewidth\":2},\"yaxis\":{\"gridcolor\":\"white\",\"linecolor\":\"white\",\"ticks\":\"\",\"title\":{\"standoff\":15},\"zerolinecolor\":\"white\",\"automargin\":true,\"zerolinewidth\":2},\"scene\":{\"xaxis\":{\"backgroundcolor\":\"#E5ECF6\",\"gridcolor\":\"white\",\"linecolor\":\"white\",\"showbackground\":true,\"ticks\":\"\",\"zerolinecolor\":\"white\",\"gridwidth\":2},\"yaxis\":{\"backgroundcolor\":\"#E5ECF6\",\"gridcolor\":\"white\",\"linecolor\":\"white\",\"showbackground\":true,\"ticks\":\"\",\"zerolinecolor\":\"white\",\"gridwidth\":2},\"zaxis\":{\"backgroundcolor\":\"#E5ECF6\",\"gridcolor\":\"white\",\"linecolor\":\"white\",\"showbackground\":true,\"ticks\":\"\",\"zerolinecolor\":\"white\",\"gridwidth\":2}},\"shapedefaults\":{\"line\":{\"color\":\"#2a3f5f\"}},\"annotationdefaults\":{\"arrowcolor\":\"#2a3f5f\",\"arrowhead\":0,\"arrowwidth\":1},\"geo\":{\"bgcolor\":\"white\",\"landcolor\":\"#E5ECF6\",\"subunitcolor\":\"white\",\"showland\":true,\"showlakes\":true,\"lakecolor\":\"white\"},\"title\":{\"x\":0.05},\"mapbox\":{\"style\":\"light\"}}},\"title\":{\"text\":\"Email Flow Sankey Diagram\"}},                        {\"responsive\": true}                    ).then(function(){\n",
       "                            \n",
       "var gd = document.getElementById('89bb8c5d-4358-4738-97b8-996587300328');\n",
       "var x = new MutationObserver(function (mutations, observer) {{\n",
       "        var display = window.getComputedStyle(gd).display;\n",
       "        if (!display || display === 'none') {{\n",
       "            console.log([gd, 'removed!']);\n",
       "            Plotly.purge(gd);\n",
       "            observer.disconnect();\n",
       "        }}\n",
       "}});\n",
       "\n",
       "// Listen for the removal of the full notebook cells\n",
       "var notebookContainer = gd.closest('#notebook-container');\n",
       "if (notebookContainer) {{\n",
       "    x.observe(notebookContainer, {childList: true});\n",
       "}}\n",
       "\n",
       "// Listen for the clearing of the current output cell\n",
       "var outputEl = gd.closest('.output');\n",
       "if (outputEl) {{\n",
       "    x.observe(outputEl, {childList: true});\n",
       "}}\n",
       "\n",
       "                        })                };                });            </script>        </div>"
      ]
     },
     "metadata": {},
     "output_type": "display_data"
    }
   ],
   "source": [
    "import plotly.graph_objects as go\n",
    "\n",
    "# Define the nodes and links\n",
    "nodes = ['Emails Sent', 'Bounce Back', 'Delivered', 'Unopened', 'Opened', \"Did not click\", \"Clicked\"]\n",
    "link_sources = [0, 0, 2, 2, 4, 4]  # Corresponding to 'Emails Sent', 'Emails Sent', 'Delivered', 'Delivered'\n",
    "link_targets = [1, 2, 3, 4, 5, 6]  # Corresponding to 'Bounce Back', 'Delivered', 'Unopened', 'Opened'\n",
    "link_values = [0, 37267, 18479, 18807, 9411, 9377]  # Corresponding to the values of each link\n",
    "\n",
    "\n",
    "# Create the Sankey diagram figure\n",
    "fig = go.Figure(go.Sankey(\n",
    "    arrangement=\"snap\",  # Use the \"fixed\" arrangement\n",
    "    node=dict(\n",
    "        pad=10,\n",
    "        thickness=20,\n",
    "        line=dict(color=\"black\", width=0.5),\n",
    "        label=nodes,\n",
    "    ),\n",
    "    link=dict(\n",
    "        source=link_sources,\n",
    "        target=link_targets,\n",
    "        value=link_values\n",
    "    )))\n",
    "\n",
    "# Customize the appearance if needed\n",
    "fig.update_layout(title_text=\"Email Flow Sankey Diagram\")\n",
    "\n",
    "# Show the plot\n",
    "fig.show()\n"
   ]
  },
  {
   "cell_type": "code",
   "execution_count": null,
   "id": "473d4dbd-0f64-4434-9780-fb72c3765d8c",
   "metadata": {},
   "outputs": [],
   "source": []
  }
 ],
 "metadata": {
  "kernelspec": {
   "display_name": "Python 3 (ipykernel)",
   "language": "python",
   "name": "python3"
  },
  "language_info": {
   "codemirror_mode": {
    "name": "ipython",
    "version": 3
   },
   "file_extension": ".py",
   "mimetype": "text/x-python",
   "name": "python",
   "nbconvert_exporter": "python",
   "pygments_lexer": "ipython3",
   "version": "3.11.3"
  }
 },
 "nbformat": 4,
 "nbformat_minor": 5
}
